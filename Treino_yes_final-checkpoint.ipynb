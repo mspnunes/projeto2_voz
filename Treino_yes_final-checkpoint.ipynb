{
 "cells": [
  {
   "cell_type": "code",
   "execution_count": 1,
   "metadata": {
    "collapsed": true
   },
   "outputs": [
    {
     "name": "stdout",
     "output_type": "stream",
     "text": [
      "Requirement already satisfied: tensorflow in c:\\users\\jmnun\\anaconda3\\lib\\site-packages (2.2.0)\n",
      "Requirement already satisfied: absl-py>=0.7.0 in c:\\users\\jmnun\\anaconda3\\lib\\site-packages (from tensorflow) (0.9.0)\n",
      "Requirement already satisfied: six>=1.12.0 in c:\\users\\jmnun\\anaconda3\\lib\\site-packages (from tensorflow) (1.14.0)\n",
      "Requirement already satisfied: protobuf>=3.8.0 in c:\\users\\jmnun\\anaconda3\\lib\\site-packages (from tensorflow) (3.12.2)\n",
      "Requirement already satisfied: tensorflow-estimator<2.3.0,>=2.2.0 in c:\\users\\jmnun\\anaconda3\\lib\\site-packages (from tensorflow) (2.2.0)\n",
      "Requirement already satisfied: wrapt>=1.11.1 in c:\\users\\jmnun\\anaconda3\\lib\\site-packages (from tensorflow) (1.11.2)\n",
      "Requirement already satisfied: google-pasta>=0.1.8 in c:\\users\\jmnun\\anaconda3\\lib\\site-packages (from tensorflow) (0.2.0)\n",
      "Requirement already satisfied: h5py<2.11.0,>=2.10.0 in c:\\users\\jmnun\\anaconda3\\lib\\site-packages (from tensorflow) (2.10.0)\n",
      "Requirement already satisfied: keras-preprocessing>=1.1.0 in c:\\users\\jmnun\\anaconda3\\lib\\site-packages (from tensorflow) (1.1.2)\n",
      "Requirement already satisfied: gast==0.3.3 in c:\\users\\jmnun\\anaconda3\\lib\\site-packages (from tensorflow) (0.3.3)\n",
      "Requirement already satisfied: scipy==1.4.1; python_version >= \"3\" in c:\\users\\jmnun\\anaconda3\\lib\\site-packages (from tensorflow) (1.4.1)\n",
      "Requirement already satisfied: numpy<2.0,>=1.16.0 in c:\\users\\jmnun\\anaconda3\\lib\\site-packages (from tensorflow) (1.18.1)\n",
      "Requirement already satisfied: grpcio>=1.8.6 in c:\\users\\jmnun\\anaconda3\\lib\\site-packages (from tensorflow) (1.29.0)\n",
      "Requirement already satisfied: tensorboard<2.3.0,>=2.2.0 in c:\\users\\jmnun\\anaconda3\\lib\\site-packages (from tensorflow) (2.2.2)\n",
      "Requirement already satisfied: termcolor>=1.1.0 in c:\\users\\jmnun\\anaconda3\\lib\\site-packages (from tensorflow) (1.1.0)\n",
      "Requirement already satisfied: wheel>=0.26; python_version >= \"3\" in c:\\users\\jmnun\\anaconda3\\lib\\site-packages (from tensorflow) (0.34.2)\n",
      "Requirement already satisfied: astunparse==1.6.3 in c:\\users\\jmnun\\anaconda3\\lib\\site-packages (from tensorflow) (1.6.3)\n",
      "Requirement already satisfied: opt-einsum>=2.3.2 in c:\\users\\jmnun\\anaconda3\\lib\\site-packages (from tensorflow) (3.2.1)\n",
      "Requirement already satisfied: setuptools in c:\\users\\jmnun\\anaconda3\\lib\\site-packages (from protobuf>=3.8.0->tensorflow) (45.2.0.post20200210)\n",
      "Requirement already satisfied: requests<3,>=2.21.0 in c:\\users\\jmnun\\anaconda3\\lib\\site-packages (from tensorboard<2.3.0,>=2.2.0->tensorflow) (2.22.0)\n",
      "Requirement already satisfied: werkzeug>=0.11.15 in c:\\users\\jmnun\\anaconda3\\lib\\site-packages (from tensorboard<2.3.0,>=2.2.0->tensorflow) (1.0.0)\n",
      "Requirement already satisfied: google-auth<2,>=1.6.3 in c:\\users\\jmnun\\anaconda3\\lib\\site-packages (from tensorboard<2.3.0,>=2.2.0->tensorflow) (1.17.2)\n",
      "Requirement already satisfied: google-auth-oauthlib<0.5,>=0.4.1 in c:\\users\\jmnun\\anaconda3\\lib\\site-packages (from tensorboard<2.3.0,>=2.2.0->tensorflow) (0.4.1)\n",
      "Requirement already satisfied: tensorboard-plugin-wit>=1.6.0 in c:\\users\\jmnun\\anaconda3\\lib\\site-packages (from tensorboard<2.3.0,>=2.2.0->tensorflow) (1.6.0.post3)\n",
      "Requirement already satisfied: markdown>=2.6.8 in c:\\users\\jmnun\\anaconda3\\lib\\site-packages (from tensorboard<2.3.0,>=2.2.0->tensorflow) (3.2.2)\n",
      "Requirement already satisfied: chardet<3.1.0,>=3.0.2 in c:\\users\\jmnun\\anaconda3\\lib\\site-packages (from requests<3,>=2.21.0->tensorboard<2.3.0,>=2.2.0->tensorflow) (3.0.4)\n",
      "Requirement already satisfied: idna<2.9,>=2.5 in c:\\users\\jmnun\\anaconda3\\lib\\site-packages (from requests<3,>=2.21.0->tensorboard<2.3.0,>=2.2.0->tensorflow) (2.8)\n",
      "Requirement already satisfied: certifi>=2017.4.17 in c:\\users\\jmnun\\anaconda3\\lib\\site-packages (from requests<3,>=2.21.0->tensorboard<2.3.0,>=2.2.0->tensorflow) (2019.11.28)\n",
      "Requirement already satisfied: urllib3!=1.25.0,!=1.25.1,<1.26,>=1.21.1 in c:\\users\\jmnun\\anaconda3\\lib\\site-packages (from requests<3,>=2.21.0->tensorboard<2.3.0,>=2.2.0->tensorflow) (1.25.8)\n",
      "Requirement already satisfied: pyasn1-modules>=0.2.1 in c:\\users\\jmnun\\anaconda3\\lib\\site-packages (from google-auth<2,>=1.6.3->tensorboard<2.3.0,>=2.2.0->tensorflow) (0.2.8)\n",
      "Requirement already satisfied: rsa<5,>=3.1.4; python_version >= \"3\" in c:\\users\\jmnun\\anaconda3\\lib\\site-packages (from google-auth<2,>=1.6.3->tensorboard<2.3.0,>=2.2.0->tensorflow) (4.6)\n",
      "Requirement already satisfied: cachetools<5.0,>=2.0.0 in c:\\users\\jmnun\\anaconda3\\lib\\site-packages (from google-auth<2,>=1.6.3->tensorboard<2.3.0,>=2.2.0->tensorflow) (4.1.0)\n",
      "Requirement already satisfied: requests-oauthlib>=0.7.0 in c:\\users\\jmnun\\anaconda3\\lib\\site-packages (from google-auth-oauthlib<0.5,>=0.4.1->tensorboard<2.3.0,>=2.2.0->tensorflow) (1.3.0)\n",
      "Requirement already satisfied: importlib-metadata; python_version < \"3.8\" in c:\\users\\jmnun\\anaconda3\\lib\\site-packages (from markdown>=2.6.8->tensorboard<2.3.0,>=2.2.0->tensorflow) (1.5.0)\n",
      "Requirement already satisfied: pyasn1<0.5.0,>=0.4.6 in c:\\users\\jmnun\\anaconda3\\lib\\site-packages (from pyasn1-modules>=0.2.1->google-auth<2,>=1.6.3->tensorboard<2.3.0,>=2.2.0->tensorflow) (0.4.8)\n",
      "Requirement already satisfied: oauthlib>=3.0.0 in c:\\users\\jmnun\\anaconda3\\lib\\site-packages (from requests-oauthlib>=0.7.0->google-auth-oauthlib<0.5,>=0.4.1->tensorboard<2.3.0,>=2.2.0->tensorflow) (3.1.0)\n",
      "Requirement already satisfied: zipp>=0.5 in c:\\users\\jmnun\\anaconda3\\lib\\site-packages (from importlib-metadata; python_version < \"3.8\"->markdown>=2.6.8->tensorboard<2.3.0,>=2.2.0->tensorflow) (2.2.0)\n"
     ]
    }
   ],
   "source": [
    "from os import listdir\n",
    "from os.path import isdir, join\n",
    "!pip install tensorflow\n",
    "from tensorflow.keras import layers, models\n",
    "import numpy as np"
   ]
  },
  {
   "cell_type": "code",
   "execution_count": 2,
   "metadata": {},
   "outputs": [
    {
     "name": "stdout",
     "output_type": "stream",
     "text": [
      "['bed', 'down', 'follow', 'forward', 'go', 'happy', 'house', 'learn', 'left', 'marvin', 'no', 'off', 'on', 'right', 'sheila', 'stop', 'tree', 'up', 'wow', 'yes']\n"
     ]
    }
   ],
   "source": [
    "# Create list of all targets\n",
    "dataset_path = 'C:\\\\Users\\\\jmnun\\\\OneDrive\\\\Ambiente de Trabalho\\\\MiEEC\\\\3ano\\\\projeto2\\\\speech_commands_dataset'\n",
    "all_targets = [name for name in listdir(dataset_path) if isdir(join(dataset_path, name))]\n",
    "# Leave off background noise set\n",
    "all_targets.remove('_background_noise_')\n",
    "#Retirar backward, bird, cat, dog, eight, five, four, nine, one, seven, six, three, two, zero\n",
    "all_targets.remove('backward')\n",
    "all_targets.remove('bird')\n",
    "all_targets.remove('cat')\n",
    "all_targets.remove('dog')\n",
    "all_targets.remove('eight')\n",
    "all_targets.remove('five')\n",
    "all_targets.remove('four')\n",
    "all_targets.remove('nine')\n",
    "all_targets.remove('one')\n",
    "all_targets.remove('seven')\n",
    "all_targets.remove('six')\n",
    "all_targets.remove('three')\n",
    "all_targets.remove('two')\n",
    "all_targets.remove('zero')\n",
    "\n",
    "print(all_targets)"
   ]
  },
  {
   "cell_type": "code",
   "execution_count": 3,
   "metadata": {},
   "outputs": [],
   "source": [
    "# Settings\n",
    "feature_sets_path = 'C:\\\\Users\\\\jmnun'\n",
    "feature_sets_filename = 'all_targets_mfcc_sets_final.npz'\n",
    "model_filename = 'wake_word_yes_model_final.h5'\n",
    "wake_word = 'yes'"
   ]
  },
  {
   "cell_type": "code",
   "execution_count": 4,
   "metadata": {},
   "outputs": [
    {
     "name": "stdout",
     "output_type": "stream",
     "text": [
      "['x_train', 'y_train', 'x_val', 'y_val', 'x_test', 'y_test']\n"
     ]
    }
   ],
   "source": [
    "# Load feature sets\n",
    "feature_sets = np.load(join(feature_sets_path, feature_sets_filename))\n",
    "print(feature_sets.files)"
   ]
  },
  {
   "cell_type": "code",
   "execution_count": 5,
   "metadata": {},
   "outputs": [],
   "source": [
    "# Assign feature sets\n",
    "x_train = feature_sets['x_train']\n",
    "y_train = feature_sets['y_train']\n",
    "x_val = feature_sets['x_val']\n",
    "y_val = feature_sets['y_val']\n",
    "x_test = feature_sets['x_test']\n",
    "y_test = feature_sets['y_test']"
   ]
  },
  {
   "cell_type": "code",
   "execution_count": 6,
   "metadata": {},
   "outputs": [
    {
     "name": "stdout",
     "output_type": "stream",
     "text": [
      "(41858, 16, 16)\n",
      "(5208, 16, 16)\n",
      "(5223, 16, 16)\n"
     ]
    }
   ],
   "source": [
    "# Look at tensor dimensions\n",
    "print(x_train.shape)\n",
    "print(x_val.shape)\n",
    "print(x_test.shape)"
   ]
  },
  {
   "cell_type": "code",
   "execution_count": 7,
   "metadata": {},
   "outputs": [
    {
     "name": "stdout",
     "output_type": "stream",
     "text": [
      "[ 8. 16.  1. ... 12.  4. 13.]\n"
     ]
    }
   ],
   "source": [
    "# Peek at labels\n",
    "print(y_val)"
   ]
  },
  {
   "cell_type": "code",
   "execution_count": 8,
   "metadata": {},
   "outputs": [
    {
     "name": "stdout",
     "output_type": "stream",
     "text": [
      "19\n"
     ]
    }
   ],
   "source": [
    "# Convert ground truth arrays to one wake word (1) and 'other' (0)\n",
    "wake_word_index = all_targets.index(wake_word)\n",
    "print(wake_word_index)\n",
    "y_train = np.equal(y_train, wake_word_index).astype('float64')\n",
    "y_val = np.equal(y_val, wake_word_index).astype('float64')\n",
    "y_test = np.equal(y_test, wake_word_index).astype('float64')"
   ]
  },
  {
   "cell_type": "code",
   "execution_count": 9,
   "metadata": {},
   "outputs": [
    {
     "name": "stdout",
     "output_type": "stream",
     "text": [
      "[0. 0. 0. ... 0. 0. 0.]\n"
     ]
    }
   ],
   "source": [
    "# Peek at labels after conversion\n",
    "print(y_val)"
   ]
  },
  {
   "cell_type": "code",
   "execution_count": 10,
   "metadata": {},
   "outputs": [
    {
     "name": "stdout",
     "output_type": "stream",
     "text": [
      "0.06970046082949309\n",
      "0.9302995391705069\n"
     ]
    }
   ],
   "source": [
    "# What percentage of 'yes' appear in validation labels\n",
    "print(sum(y_val) / len(y_val))\n",
    "print(1 - sum(y_val) / len(y_val))"
   ]
  },
  {
   "cell_type": "code",
   "execution_count": 11,
   "metadata": {},
   "outputs": [
    {
     "name": "stdout",
     "output_type": "stream",
     "text": [
      "(41858, 16, 16)\n"
     ]
    }
   ],
   "source": [
    "# View the dimensions of our input data\n",
    "print(x_train.shape)"
   ]
  },
  {
   "cell_type": "code",
   "execution_count": 12,
   "metadata": {},
   "outputs": [
    {
     "name": "stdout",
     "output_type": "stream",
     "text": [
      "(41858, 16, 16, 1)\n",
      "(5208, 16, 16, 1)\n",
      "(5223, 16, 16, 1)\n"
     ]
    }
   ],
   "source": [
    "# CNN for TF expects (batch, height, width, channels)\n",
    "# So we reshape the input tensors with a \"color\" channel of 1\n",
    "x_train = x_train.reshape(x_train.shape[0], \n",
    "                          x_train.shape[1], \n",
    "                          x_train.shape[2], \n",
    "                          1)\n",
    "x_val = x_val.reshape(x_val.shape[0], \n",
    "                      x_val.shape[1], \n",
    "                      x_val.shape[2], \n",
    "                      1)\n",
    "x_test = x_test.reshape(x_test.shape[0], \n",
    "                        x_test.shape[1], \n",
    "                        x_test.shape[2], \n",
    "                        1)\n",
    "print(x_train.shape)\n",
    "print(x_val.shape)\n",
    "print(x_test.shape)"
   ]
  },
  {
   "cell_type": "code",
   "execution_count": 13,
   "metadata": {},
   "outputs": [
    {
     "name": "stdout",
     "output_type": "stream",
     "text": [
      "(16, 16, 1)\n"
     ]
    }
   ],
   "source": [
    "# Input shape for CNN is size of MFCC of 1 sample\n",
    "sample_shape = x_test.shape[1:]\n",
    "print(sample_shape)"
   ]
  },
  {
   "cell_type": "code",
   "execution_count": 14,
   "metadata": {},
   "outputs": [],
   "source": [
    "# Build model\n",
    "# Based on: https://www.geeksforgeeks.org/python-image-classification-using-keras/\n",
    "model = models.Sequential()\n",
    "model.add(layers.Conv2D(32, \n",
    "                        (2, 2), \n",
    "                        activation='relu',\n",
    "                        input_shape=sample_shape))\n",
    "model.add(layers.MaxPooling2D(pool_size=(2, 2)))\n",
    "\n",
    "model.add(layers.Conv2D(32, (2, 2), activation='relu'))\n",
    "model.add(layers.MaxPooling2D(pool_size=(2, 2)))\n",
    "\n",
    "model.add(layers.Conv2D(64, (2, 2), activation='relu'))\n",
    "model.add(layers.MaxPooling2D(pool_size=(2, 2)))\n",
    "\n",
    "# Classifier\n",
    "model.add(layers.Flatten())\n",
    "model.add(layers.Dense(64, activation='relu'))\n",
    "model.add(layers.Dropout(0.5))\n",
    "model.add(layers.Dense(1, activation='sigmoid'))"
   ]
  },
  {
   "cell_type": "code",
   "execution_count": 15,
   "metadata": {},
   "outputs": [
    {
     "name": "stdout",
     "output_type": "stream",
     "text": [
      "Model: \"sequential\"\n",
      "_________________________________________________________________\n",
      "Layer (type)                 Output Shape              Param #   \n",
      "=================================================================\n",
      "conv2d (Conv2D)              (None, 15, 15, 32)        160       \n",
      "_________________________________________________________________\n",
      "max_pooling2d (MaxPooling2D) (None, 7, 7, 32)          0         \n",
      "_________________________________________________________________\n",
      "conv2d_1 (Conv2D)            (None, 6, 6, 32)          4128      \n",
      "_________________________________________________________________\n",
      "max_pooling2d_1 (MaxPooling2 (None, 3, 3, 32)          0         \n",
      "_________________________________________________________________\n",
      "conv2d_2 (Conv2D)            (None, 2, 2, 64)          8256      \n",
      "_________________________________________________________________\n",
      "max_pooling2d_2 (MaxPooling2 (None, 1, 1, 64)          0         \n",
      "_________________________________________________________________\n",
      "flatten (Flatten)            (None, 64)                0         \n",
      "_________________________________________________________________\n",
      "dense (Dense)                (None, 64)                4160      \n",
      "_________________________________________________________________\n",
      "dropout (Dropout)            (None, 64)                0         \n",
      "_________________________________________________________________\n",
      "dense_1 (Dense)              (None, 1)                 65        \n",
      "=================================================================\n",
      "Total params: 16,769\n",
      "Trainable params: 16,769\n",
      "Non-trainable params: 0\n",
      "_________________________________________________________________\n"
     ]
    }
   ],
   "source": [
    "# Display model\n",
    "model.summary()"
   ]
  },
  {
   "cell_type": "code",
   "execution_count": 16,
   "metadata": {},
   "outputs": [],
   "source": [
    "# Add training parameters to model\n",
    "model.compile(loss='binary_crossentropy', \n",
    "              optimizer='rmsprop', \n",
    "              metrics=['acc'])"
   ]
  },
  {
   "cell_type": "code",
   "execution_count": 17,
   "metadata": {},
   "outputs": [
    {
     "name": "stdout",
     "output_type": "stream",
     "text": [
      "Epoch 1/30\n",
      "419/419 [==============================] - 5s 12ms/step - loss: 0.1503 - acc: 0.9489 - val_loss: 0.0913 - val_acc: 0.9687\n",
      "Epoch 2/30\n",
      "419/419 [==============================] - 5s 11ms/step - loss: 0.0909 - acc: 0.9688 - val_loss: 0.0752 - val_acc: 0.9743\n",
      "Epoch 3/30\n",
      "419/419 [==============================] - 6s 15ms/step - loss: 0.0727 - acc: 0.9763 - val_loss: 0.0874 - val_acc: 0.9750\n",
      "Epoch 4/30\n",
      "419/419 [==============================] - 7s 16ms/step - loss: 0.0622 - acc: 0.9791 - val_loss: 0.0509 - val_acc: 0.9829\n",
      "Epoch 5/30\n",
      "419/419 [==============================] - 6s 15ms/step - loss: 0.0547 - acc: 0.9818 - val_loss: 0.0756 - val_acc: 0.9729\n",
      "Epoch 6/30\n",
      "419/419 [==============================] - 6s 15ms/step - loss: 0.0500 - acc: 0.9834 - val_loss: 0.0447 - val_acc: 0.9862\n",
      "Epoch 7/30\n",
      "419/419 [==============================] - 6s 14ms/step - loss: 0.0453 - acc: 0.9842 - val_loss: 0.0577 - val_acc: 0.9798\n",
      "Epoch 8/30\n",
      "419/419 [==============================] - 6s 14ms/step - loss: 0.0434 - acc: 0.9861 - val_loss: 0.1029 - val_acc: 0.9658\n",
      "Epoch 9/30\n",
      "419/419 [==============================] - 6s 14ms/step - loss: 0.0416 - acc: 0.9867 - val_loss: 0.0412 - val_acc: 0.9869\n",
      "Epoch 10/30\n",
      "419/419 [==============================] - 5s 13ms/step - loss: 0.0392 - acc: 0.9866 - val_loss: 0.0483 - val_acc: 0.9868\n",
      "Epoch 11/30\n",
      "419/419 [==============================] - 5s 13ms/step - loss: 0.0374 - acc: 0.9881 - val_loss: 0.0602 - val_acc: 0.9835\n",
      "Epoch 12/30\n",
      "419/419 [==============================] - 5s 13ms/step - loss: 0.0383 - acc: 0.9875 - val_loss: 0.0508 - val_acc: 0.9894\n",
      "Epoch 13/30\n",
      "419/419 [==============================] - 5s 13ms/step - loss: 0.0381 - acc: 0.9880 - val_loss: 0.0562 - val_acc: 0.9871\n",
      "Epoch 14/30\n",
      "419/419 [==============================] - 5s 13ms/step - loss: 0.0383 - acc: 0.9885 - val_loss: 0.0577 - val_acc: 0.9896\n",
      "Epoch 15/30\n",
      "419/419 [==============================] - 5s 13ms/step - loss: 0.0392 - acc: 0.9884 - val_loss: 0.0498 - val_acc: 0.9892\n",
      "Epoch 16/30\n",
      "419/419 [==============================] - 5s 13ms/step - loss: 0.0390 - acc: 0.9883 - val_loss: 0.0790 - val_acc: 0.9775\n",
      "Epoch 17/30\n",
      "419/419 [==============================] - 5s 13ms/step - loss: 0.0393 - acc: 0.9879 - val_loss: 0.0733 - val_acc: 0.9892\n",
      "Epoch 18/30\n",
      "419/419 [==============================] - 5s 13ms/step - loss: 0.0388 - acc: 0.9883 - val_loss: 0.0650 - val_acc: 0.9883\n",
      "Epoch 19/30\n",
      "419/419 [==============================] - 5s 13ms/step - loss: 0.0421 - acc: 0.9880 - val_loss: 0.0423 - val_acc: 0.9891\n",
      "Epoch 20/30\n",
      "419/419 [==============================] - 5s 13ms/step - loss: 0.0399 - acc: 0.9877 - val_loss: 0.0554 - val_acc: 0.9875\n",
      "Epoch 21/30\n",
      "419/419 [==============================] - 5s 13ms/step - loss: 0.0398 - acc: 0.9887 - val_loss: 0.0851 - val_acc: 0.9871\n",
      "Epoch 22/30\n",
      "419/419 [==============================] - 5s 13ms/step - loss: 0.0396 - acc: 0.9881 - val_loss: 0.0608 - val_acc: 0.9900\n",
      "Epoch 23/30\n",
      "419/419 [==============================] - 5s 13ms/step - loss: 0.0385 - acc: 0.9888 - val_loss: 0.0572 - val_acc: 0.9891\n",
      "Epoch 24/30\n",
      "419/419 [==============================] - 5s 13ms/step - loss: 0.0407 - acc: 0.9878 - val_loss: 0.0518 - val_acc: 0.9902\n",
      "Epoch 25/30\n",
      "419/419 [==============================] - 5s 13ms/step - loss: 0.0394 - acc: 0.9885 - val_loss: 0.0500 - val_acc: 0.9883\n",
      "Epoch 26/30\n",
      "419/419 [==============================] - 5s 13ms/step - loss: 0.0424 - acc: 0.9882 - val_loss: 0.0727 - val_acc: 0.9858\n",
      "Epoch 27/30\n",
      "419/419 [==============================] - 5s 13ms/step - loss: 0.0392 - acc: 0.9884 - val_loss: 0.0591 - val_acc: 0.9869\n",
      "Epoch 28/30\n",
      "419/419 [==============================] - 6s 13ms/step - loss: 0.0395 - acc: 0.9887 - val_loss: 0.1288 - val_acc: 0.9860\n",
      "Epoch 29/30\n",
      "419/419 [==============================] - 5s 13ms/step - loss: 0.0395 - acc: 0.9882 - val_loss: 0.0857 - val_acc: 0.9883\n",
      "Epoch 30/30\n",
      "419/419 [==============================] - 5s 13ms/step - loss: 0.0413 - acc: 0.9886 - val_loss: 0.0928 - val_acc: 0.9821\n"
     ]
    }
   ],
   "source": [
    "# Train\n",
    "history = model.fit(x_train, \n",
    "                    y_train, \n",
    "                    epochs=30, \n",
    "                    batch_size=100, \n",
    "                    validation_data=(x_val, y_val))"
   ]
  },
  {
   "cell_type": "code",
   "execution_count": 18,
   "metadata": {},
   "outputs": [
    {
     "data": {
      "image/png": "[encoded data removed]",
      "text/plain": [
       "<Figure size 432x288 with 1 Axes>"
      ]
     },
     "metadata": {
      "needs_background": "light"
     },
     "output_type": "display_data"
    },
    {
     "data": {
      "image/png": "[encoded data removed]",
      "text/plain": [
       "<Figure size 432x288 with 1 Axes>"
      ]
     },
     "metadata": {
      "needs_background": "light"
     },
     "output_type": "display_data"
    }
   ],
   "source": [
    "# Plot results\n",
    "import matplotlib.pyplot as plt\n",
    "\n",
    "acc = history.history['acc']\n",
    "val_acc = history.history['val_acc']\n",
    "loss = history.history['loss']\n",
    "val_loss = history.history['val_loss']\n",
    "\n",
    "epochs = range(1, len(acc) + 1)\n",
    "\n",
    "plt.plot(epochs, acc, 'bo', label='Training acc')\n",
    "plt.plot(epochs, val_acc, 'b', label='Validation acc')\n",
    "plt.title('Training and validation accuracy')\n",
    "plt.legend()\n",
    "\n",
    "plt.figure()\n",
    "\n",
    "plt.plot(epochs, loss, 'bo', label='Training loss')\n",
    "plt.plot(epochs, val_loss, 'b', label='Validation loss')\n",
    "plt.title('Training and validation loss')\n",
    "plt.legend()\n",
    "\n",
    "plt.show()"
   ]
  },
  {
   "cell_type": "code",
   "execution_count": 19,
   "metadata": {},
   "outputs": [],
   "source": [
    "# Save the model as a file\n",
    "models.save_model(model, model_filename)"
   ]
  },
  {
   "cell_type": "code",
   "execution_count": 20,
   "metadata": {},
   "outputs": [
    {
     "name": "stdout",
     "output_type": "stream",
     "text": [
      "13\n",
      "23\n",
      "30\n",
      "38\n",
      "39\n",
      "48\n",
      "60\n",
      "63\n",
      "72\n",
      "83\n",
      "94\n",
      "103\n",
      "110\n",
      "129\n",
      "136\n",
      "167\n",
      "173\n",
      "191\n",
      "205\n",
      "219\n",
      "229\n",
      "237\n",
      "243\n",
      "276\n",
      "285\n",
      "315\n",
      "340\n",
      "342\n",
      "344\n",
      "415\n",
      "429\n",
      "439\n",
      "443\n",
      "449\n",
      "452\n",
      "491\n",
      "493\n",
      "543\n",
      "546\n",
      "567\n",
      "575\n",
      "582\n",
      "583\n",
      "591\n",
      "597\n",
      "607\n",
      "627\n",
      "648\n",
      "656\n",
      "658\n",
      "669\n",
      "699\n",
      "700\n",
      "703\n",
      "723\n",
      "752\n",
      "799\n",
      "807\n",
      "813\n",
      "834\n",
      "840\n",
      "857\n",
      "893\n",
      "917\n",
      "931\n",
      "942\n",
      "957\n",
      "963\n",
      "974\n",
      "991\n",
      "998\n",
      "1000\n",
      "1003\n",
      "1005\n",
      "1021\n",
      "1034\n",
      "1042\n",
      "1046\n",
      "1047\n",
      "1048\n",
      "1073\n",
      "1091\n",
      "1094\n",
      "1098\n",
      "1110\n",
      "1118\n",
      "1161\n",
      "1168\n",
      "1218\n",
      "1274\n",
      "1279\n",
      "1301\n",
      "1332\n",
      "1342\n",
      "1346\n",
      "1347\n",
      "1362\n",
      "1412\n",
      "1414\n",
      "1419\n",
      "1434\n",
      "1436\n",
      "1453\n",
      "1456\n",
      "1498\n",
      "1506\n",
      "1522\n",
      "1526\n",
      "1550\n",
      "1552\n",
      "1554\n",
      "1555\n",
      "1583\n",
      "1604\n",
      "1605\n",
      "1608\n",
      "1610\n",
      "1616\n",
      "1620\n",
      "1632\n",
      "1635\n",
      "1641\n",
      "1653\n",
      "1673\n",
      "1676\n",
      "1687\n",
      "1698\n",
      "1707\n",
      "1715\n",
      "1718\n",
      "1781\n",
      "1809\n",
      "1830\n",
      "1836\n",
      "1841\n",
      "1857\n",
      "1864\n",
      "1883\n",
      "1902\n",
      "1904\n",
      "1906\n",
      "1915\n",
      "1931\n",
      "1939\n",
      "1947\n",
      "1953\n",
      "1956\n",
      "1992\n",
      "2001\n",
      "2019\n",
      "2035\n",
      "2037\n",
      "2044\n",
      "2045\n",
      "2053\n",
      "2058\n",
      "2065\n",
      "2070\n",
      "2092\n",
      "2101\n",
      "2108\n",
      "2141\n",
      "2143\n",
      "2154\n",
      "2167\n",
      "2194\n",
      "2213\n",
      "2234\n",
      "2253\n",
      "2265\n",
      "2269\n",
      "2292\n",
      "2315\n",
      "2324\n",
      "2362\n",
      "2366\n",
      "2383\n",
      "2386\n",
      "2404\n",
      "2412\n",
      "2426\n",
      "2434\n",
      "2445\n",
      "2467\n",
      "2477\n",
      "2516\n",
      "2522\n",
      "2524\n",
      "2536\n",
      "2541\n",
      "2544\n",
      "2571\n",
      "2579\n",
      "2588\n",
      "2620\n",
      "2626\n",
      "2647\n",
      "2657\n",
      "2673\n",
      "2699\n",
      "2714\n",
      "2718\n",
      "2726\n",
      "2747\n",
      "2758\n",
      "2794\n",
      "2821\n",
      "2844\n",
      "2845\n",
      "2860\n",
      "2863\n",
      "2881\n",
      "2901\n",
      "2914\n",
      "2940\n",
      "2950\n",
      "2952\n",
      "2958\n",
      "2961\n",
      "2967\n",
      "2973\n",
      "2996\n",
      "3011\n",
      "3016\n",
      "3024\n",
      "3042\n",
      "3054\n",
      "3064\n",
      "3089\n",
      "3105\n",
      "3106\n",
      "3112\n",
      "3115\n",
      "3118\n",
      "3123\n",
      "3124\n",
      "3125\n",
      "3129\n",
      "3136\n",
      "3143\n",
      "3146\n",
      "3154\n",
      "3168\n",
      "3169\n",
      "3173\n",
      "3227\n",
      "3229\n",
      "3252\n",
      "3278\n",
      "3303\n",
      "3305\n",
      "3310\n",
      "3317\n",
      "3327\n",
      "3351\n",
      "3403\n",
      "3407\n",
      "3435\n",
      "3438\n",
      "3439\n",
      "3441\n",
      "3447\n",
      "3452\n",
      "3552\n",
      "3556\n",
      "3561\n",
      "3577\n",
      "3585\n",
      "3590\n",
      "3607\n",
      "3614\n",
      "3638\n",
      "3652\n",
      "3665\n",
      "3674\n",
      "3682\n",
      "3734\n",
      "3738\n",
      "3741\n",
      "3748\n",
      "3765\n",
      "3803\n",
      "3813\n",
      "3849\n",
      "3882\n",
      "3903\n",
      "3912\n",
      "3915\n",
      "3916\n",
      "3936\n",
      "3947\n",
      "3974\n",
      "3976\n",
      "3978\n",
      "3989\n",
      "3995\n",
      "4002\n",
      "4004\n",
      "4012\n",
      "4029\n",
      "4035\n",
      "4041\n",
      "4047\n",
      "4051\n",
      "4071\n",
      "4079\n",
      "4103\n",
      "4105\n",
      "4119\n",
      "4140\n",
      "4146\n",
      "4150\n",
      "4168\n",
      "4211\n",
      "4240\n",
      "4262\n",
      "4271\n",
      "4300\n",
      "4334\n",
      "4361\n",
      "4388\n",
      "4390\n",
      "4421\n",
      "4427\n",
      "4443\n",
      "4444\n",
      "4466\n",
      "4480\n",
      "4506\n",
      "4515\n",
      "4518\n",
      "4530\n",
      "4560\n",
      "4602\n",
      "4605\n",
      "4612\n",
      "4621\n",
      "4623\n",
      "4669\n",
      "4677\n",
      "4682\n",
      "4683\n",
      "4703\n",
      "4763\n",
      "4785\n",
      "4818\n",
      "4823\n",
      "4855\n",
      "4890\n",
      "4897\n",
      "4902\n",
      "4927\n",
      "4928\n",
      "4959\n",
      "4984\n",
      "4991\n",
      "5020\n",
      "5026\n",
      "5047\n",
      "5054\n",
      "5066\n",
      "5074\n",
      "5091\n",
      "5107\n",
      "5112\n",
      "5160\n",
      "5163\n",
      "5179\n"
     ]
    }
   ],
   "source": [
    "# See which are 'yes'\n",
    "for idx, y in enumerate(y_test):\n",
    "    if y == 1:\n",
    "        print(idx)"
   ]
  },
  {
   "cell_type": "code",
   "execution_count": 28,
   "metadata": {},
   "outputs": [
    {
     "name": "stdout",
     "output_type": "stream",
     "text": [
      "Answer: 0.0  Prediction: [[2.5815686e-14]]\n",
      "Answer: 0.0  Prediction: [[1.2589346e-09]]\n",
      "Answer: 0.0  Prediction: [[9.700242e-06]]\n",
      "Answer: 0.0  Prediction: [[1.5499196e-09]]\n",
      "Answer: 1.0  Prediction: [[0.9997955]]\n",
      "Answer: 0.0  Prediction: [[1.5467167e-11]]\n",
      "Answer: 0.0  Prediction: [[7.2308213e-13]]\n",
      "Answer: 0.0  Prediction: [[0.00082359]]\n",
      "Answer: 0.0  Prediction: [[1.0671314e-07]]\n",
      "Answer: 1.0  Prediction: [[1.]]\n"
     ]
    }
   ],
   "source": [
    "# TEST: Load model and run it against test set\n",
    "model = models.load_model(model_filename)\n",
    "for i in range(1270, 1280):\n",
    "    print('Answer:', y_test[i], ' Prediction:', model.predict(np.expand_dims(x_test[i], 0)))"
   ]
  },
  {
   "cell_type": "code",
   "execution_count": 29,
   "metadata": {},
   "outputs": [
    {
     "name": "stdout",
     "output_type": "stream",
     "text": [
      "164/164 [==============================] - 0s 2ms/step - loss: 0.0752 - acc: 0.9828\n"
     ]
    },
    {
     "data": {
      "text/plain": [
       "[0.07521317899227142, 0.9827685356140137]"
      ]
     },
     "execution_count": 29,
     "metadata": {},
     "output_type": "execute_result"
    }
   ],
   "source": [
    "# Evaluate model with test set\n",
    "model.evaluate(x=x_test, y=y_test)"
   ]
  },
  {
   "cell_type": "code",
   "execution_count": null,
   "metadata": {},
   "outputs": [],
   "source": []
  }
 ],
 "metadata": {
  "kernelspec": {
   "display_name": "Python 3",
   "language": "python",
   "name": "python3"
  },
  "language_info": {
   "codemirror_mode": {
    "name": "ipython",
    "version": 3
   },
   "file_extension": ".py",
   "mimetype": "text/x-python",
   "name": "python",
   "nbconvert_exporter": "python",
   "pygments_lexer": "ipython3",
   "version": "3.7.6"
  }
 },
 "nbformat": 4,
 "nbformat_minor": 4
}
