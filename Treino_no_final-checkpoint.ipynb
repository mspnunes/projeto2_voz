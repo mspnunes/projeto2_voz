{
 "cells": [
  {
   "cell_type": "code",
   "execution_count": 1,
   "metadata": {
    "collapsed": true
   },
   "outputs": [
    {
     "name": "stdout",
     "output_type": "stream",
     "text": [
      "Requirement already satisfied: tensorflow in c:\\users\\jmnun\\anaconda3\\lib\\site-packages (2.2.0)\n",
      "Requirement already satisfied: wheel>=0.26; python_version >= \"3\" in c:\\users\\jmnun\\anaconda3\\lib\\site-packages (from tensorflow) (0.34.2)\n",
      "Requirement already satisfied: termcolor>=1.1.0 in c:\\users\\jmnun\\anaconda3\\lib\\site-packages (from tensorflow) (1.1.0)\n",
      "Requirement already satisfied: tensorboard<2.3.0,>=2.2.0 in c:\\users\\jmnun\\anaconda3\\lib\\site-packages (from tensorflow) (2.2.2)\n",
      "Requirement already satisfied: gast==0.3.3 in c:\\users\\jmnun\\anaconda3\\lib\\site-packages (from tensorflow) (0.3.3)\n",
      "Requirement already satisfied: astunparse==1.6.3 in c:\\users\\jmnun\\anaconda3\\lib\\site-packages (from tensorflow) (1.6.3)\n",
      "Requirement already satisfied: absl-py>=0.7.0 in c:\\users\\jmnun\\anaconda3\\lib\\site-packages (from tensorflow) (0.9.0)\n",
      "Requirement already satisfied: google-pasta>=0.1.8 in c:\\users\\jmnun\\anaconda3\\lib\\site-packages (from tensorflow) (0.2.0)\n",
      "Requirement already satisfied: tensorflow-estimator<2.3.0,>=2.2.0 in c:\\users\\jmnun\\anaconda3\\lib\\site-packages (from tensorflow) (2.2.0)\n",
      "Requirement already satisfied: wrapt>=1.11.1 in c:\\users\\jmnun\\anaconda3\\lib\\site-packages (from tensorflow) (1.11.2)\n",
      "Requirement already satisfied: numpy<2.0,>=1.16.0 in c:\\users\\jmnun\\anaconda3\\lib\\site-packages (from tensorflow) (1.18.1)\n",
      "Requirement already satisfied: grpcio>=1.8.6 in c:\\users\\jmnun\\anaconda3\\lib\\site-packages (from tensorflow) (1.29.0)\n",
      "Requirement already satisfied: six>=1.12.0 in c:\\users\\jmnun\\anaconda3\\lib\\site-packages (from tensorflow) (1.14.0)\n",
      "Requirement already satisfied: keras-preprocessing>=1.1.0 in c:\\users\\jmnun\\anaconda3\\lib\\site-packages (from tensorflow) (1.1.2)\n",
      "Requirement already satisfied: protobuf>=3.8.0 in c:\\users\\jmnun\\anaconda3\\lib\\site-packages (from tensorflow) (3.12.2)\n",
      "Requirement already satisfied: opt-einsum>=2.3.2 in c:\\users\\jmnun\\anaconda3\\lib\\site-packages (from tensorflow) (3.2.1)\n",
      "Requirement already satisfied: h5py<2.11.0,>=2.10.0 in c:\\users\\jmnun\\anaconda3\\lib\\site-packages (from tensorflow) (2.10.0)\n",
      "Requirement already satisfied: scipy==1.4.1; python_version >= \"3\" in c:\\users\\jmnun\\anaconda3\\lib\\site-packages (from tensorflow) (1.4.1)\n",
      "Requirement already satisfied: google-auth<2,>=1.6.3 in c:\\users\\jmnun\\anaconda3\\lib\\site-packages (from tensorboard<2.3.0,>=2.2.0->tensorflow) (1.17.2)\n",
      "Requirement already satisfied: setuptools>=41.0.0 in c:\\users\\jmnun\\anaconda3\\lib\\site-packages (from tensorboard<2.3.0,>=2.2.0->tensorflow) (45.2.0.post20200210)\n",
      "Requirement already satisfied: markdown>=2.6.8 in c:\\users\\jmnun\\anaconda3\\lib\\site-packages (from tensorboard<2.3.0,>=2.2.0->tensorflow) (3.2.2)\n",
      "Requirement already satisfied: tensorboard-plugin-wit>=1.6.0 in c:\\users\\jmnun\\anaconda3\\lib\\site-packages (from tensorboard<2.3.0,>=2.2.0->tensorflow) (1.6.0.post3)\n",
      "Requirement already satisfied: requests<3,>=2.21.0 in c:\\users\\jmnun\\anaconda3\\lib\\site-packages (from tensorboard<2.3.0,>=2.2.0->tensorflow) (2.22.0)\n",
      "Requirement already satisfied: google-auth-oauthlib<0.5,>=0.4.1 in c:\\users\\jmnun\\anaconda3\\lib\\site-packages (from tensorboard<2.3.0,>=2.2.0->tensorflow) (0.4.1)\n",
      "Requirement already satisfied: werkzeug>=0.11.15 in c:\\users\\jmnun\\anaconda3\\lib\\site-packages (from tensorboard<2.3.0,>=2.2.0->tensorflow) (1.0.0)\n",
      "Requirement already satisfied: rsa<5,>=3.1.4; python_version >= \"3\" in c:\\users\\jmnun\\anaconda3\\lib\\site-packages (from google-auth<2,>=1.6.3->tensorboard<2.3.0,>=2.2.0->tensorflow) (4.6)\n",
      "Requirement already satisfied: cachetools<5.0,>=2.0.0 in c:\\users\\jmnun\\anaconda3\\lib\\site-packages (from google-auth<2,>=1.6.3->tensorboard<2.3.0,>=2.2.0->tensorflow) (4.1.0)\n",
      "Requirement already satisfied: pyasn1-modules>=0.2.1 in c:\\users\\jmnun\\anaconda3\\lib\\site-packages (from google-auth<2,>=1.6.3->tensorboard<2.3.0,>=2.2.0->tensorflow) (0.2.8)\n",
      "Requirement already satisfied: importlib-metadata; python_version < \"3.8\" in c:\\users\\jmnun\\anaconda3\\lib\\site-packages (from markdown>=2.6.8->tensorboard<2.3.0,>=2.2.0->tensorflow) (1.5.0)\n",
      "Requirement already satisfied: chardet<3.1.0,>=3.0.2 in c:\\users\\jmnun\\anaconda3\\lib\\site-packages (from requests<3,>=2.21.0->tensorboard<2.3.0,>=2.2.0->tensorflow) (3.0.4)\n",
      "Requirement already satisfied: urllib3!=1.25.0,!=1.25.1,<1.26,>=1.21.1 in c:\\users\\jmnun\\anaconda3\\lib\\site-packages (from requests<3,>=2.21.0->tensorboard<2.3.0,>=2.2.0->tensorflow) (1.25.8)\n",
      "Requirement already satisfied: idna<2.9,>=2.5 in c:\\users\\jmnun\\anaconda3\\lib\\site-packages (from requests<3,>=2.21.0->tensorboard<2.3.0,>=2.2.0->tensorflow) (2.8)\n",
      "Requirement already satisfied: certifi>=2017.4.17 in c:\\users\\jmnun\\anaconda3\\lib\\site-packages (from requests<3,>=2.21.0->tensorboard<2.3.0,>=2.2.0->tensorflow) (2019.11.28)\n",
      "Requirement already satisfied: requests-oauthlib>=0.7.0 in c:\\users\\jmnun\\anaconda3\\lib\\site-packages (from google-auth-oauthlib<0.5,>=0.4.1->tensorboard<2.3.0,>=2.2.0->tensorflow) (1.3.0)\n",
      "Requirement already satisfied: pyasn1>=0.1.3 in c:\\users\\jmnun\\anaconda3\\lib\\site-packages (from rsa<5,>=3.1.4; python_version >= \"3\"->google-auth<2,>=1.6.3->tensorboard<2.3.0,>=2.2.0->tensorflow) (0.4.8)\n",
      "Requirement already satisfied: zipp>=0.5 in c:\\users\\jmnun\\anaconda3\\lib\\site-packages (from importlib-metadata; python_version < \"3.8\"->markdown>=2.6.8->tensorboard<2.3.0,>=2.2.0->tensorflow) (2.2.0)\n",
      "Requirement already satisfied: oauthlib>=3.0.0 in c:\\users\\jmnun\\anaconda3\\lib\\site-packages (from requests-oauthlib>=0.7.0->google-auth-oauthlib<0.5,>=0.4.1->tensorboard<2.3.0,>=2.2.0->tensorflow) (3.1.0)\n"
     ]
    }
   ],
   "source": [
    "from os import listdir\n",
    "from os.path import isdir, join\n",
    "!pip install tensorflow\n",
    "from tensorflow.keras import layers, models\n",
    "import numpy as np"
   ]
  },
  {
   "cell_type": "code",
   "execution_count": 2,
   "metadata": {},
   "outputs": [
    {
     "name": "stdout",
     "output_type": "stream",
     "text": [
      "['bed', 'down', 'follow', 'forward', 'go', 'happy', 'house', 'learn', 'left', 'marvin', 'no', 'off', 'on', 'right', 'sheila', 'stop', 'tree', 'up', 'wow', 'yes']\n"
     ]
    }
   ],
   "source": [
    "# Create list of all targets\n",
    "dataset_path = 'C:\\\\Users\\\\jmnun\\\\OneDrive\\\\Ambiente de Trabalho\\\\MiEEC\\\\3ano\\\\projeto2\\\\speech_commands_dataset'\n",
    "all_targets = [name for name in listdir(dataset_path) if isdir(join(dataset_path, name))]\n",
    "# Leave off background noise set\n",
    "all_targets.remove('_background_noise_')\n",
    "#Retirar backward, bird, cat, dog, eight, five, four, nine, one, seven, six, three, two, zero\n",
    "all_targets.remove('backward')\n",
    "all_targets.remove('bird')\n",
    "all_targets.remove('cat')\n",
    "all_targets.remove('dog')\n",
    "all_targets.remove('eight')\n",
    "all_targets.remove('five')\n",
    "all_targets.remove('four')\n",
    "all_targets.remove('nine')\n",
    "all_targets.remove('one')\n",
    "all_targets.remove('seven')\n",
    "all_targets.remove('six')\n",
    "all_targets.remove('three')\n",
    "all_targets.remove('two')\n",
    "all_targets.remove('zero')\n",
    "\n",
    "print(all_targets)"
   ]
  },
  {
   "cell_type": "code",
   "execution_count": 3,
   "metadata": {},
   "outputs": [],
   "source": [
    "# Settings\n",
    "feature_sets_path = 'C:\\\\Users\\\\jmnun'\n",
    "feature_sets_filename = 'all_targets_mfcc_sets_final.npz'\n",
    "model_filename = 'wake_word_no_model_final.h5'\n",
    "wake_word = 'no'"
   ]
  },
  {
   "cell_type": "code",
   "execution_count": 4,
   "metadata": {},
   "outputs": [
    {
     "name": "stdout",
     "output_type": "stream",
     "text": [
      "['x_train', 'y_train', 'x_val', 'y_val', 'x_test', 'y_test']\n"
     ]
    }
   ],
   "source": [
    "# Load feature sets\n",
    "feature_sets = np.load(join(feature_sets_path, feature_sets_filename))\n",
    "print(feature_sets.files)"
   ]
  },
  {
   "cell_type": "code",
   "execution_count": 5,
   "metadata": {},
   "outputs": [],
   "source": [
    "# Assign feature sets\n",
    "x_train = feature_sets['x_train']\n",
    "y_train = feature_sets['y_train']\n",
    "x_val = feature_sets['x_val']\n",
    "y_val = feature_sets['y_val']\n",
    "x_test = feature_sets['x_test']\n",
    "y_test = feature_sets['y_test']"
   ]
  },
  {
   "cell_type": "code",
   "execution_count": 6,
   "metadata": {},
   "outputs": [
    {
     "name": "stdout",
     "output_type": "stream",
     "text": [
      "(41858, 16, 16)\n",
      "(5208, 16, 16)\n",
      "(5223, 16, 16)\n"
     ]
    }
   ],
   "source": [
    "# Look at tensor dimensions\n",
    "print(x_train.shape)\n",
    "print(x_val.shape)\n",
    "print(x_test.shape)"
   ]
  },
  {
   "cell_type": "code",
   "execution_count": 7,
   "metadata": {},
   "outputs": [
    {
     "name": "stdout",
     "output_type": "stream",
     "text": [
      "[ 8. 16.  1. ... 12.  4. 13.]\n"
     ]
    }
   ],
   "source": [
    "# Peek at labels\n",
    "print(y_val)"
   ]
  },
  {
   "cell_type": "code",
   "execution_count": 8,
   "metadata": {},
   "outputs": [
    {
     "name": "stdout",
     "output_type": "stream",
     "text": [
      "10\n"
     ]
    }
   ],
   "source": [
    "# Convert ground truth arrays to one wake word (1) and 'other' (0)\n",
    "wake_word_index = all_targets.index(wake_word)\n",
    "print(wake_word_index)\n",
    "y_train = np.equal(y_train, wake_word_index).astype('float64')\n",
    "y_val = np.equal(y_val, wake_word_index).astype('float64')\n",
    "y_test = np.equal(y_test, wake_word_index).astype('float64')"
   ]
  },
  {
   "cell_type": "code",
   "execution_count": 9,
   "metadata": {},
   "outputs": [
    {
     "name": "stdout",
     "output_type": "stream",
     "text": [
      "[0. 0. 0. ... 0. 0. 0.]\n"
     ]
    }
   ],
   "source": [
    "# Peek at labels after conversion\n",
    "print(y_val)"
   ]
  },
  {
   "cell_type": "code",
   "execution_count": 10,
   "metadata": {},
   "outputs": [
    {
     "name": "stdout",
     "output_type": "stream",
     "text": [
      "0.06835637480798772\n",
      "0.9316436251920123\n"
     ]
    }
   ],
   "source": [
    "# What percentage of 'yes' appear in validation labels\n",
    "print(sum(y_val) / len(y_val))\n",
    "print(1 - sum(y_val) / len(y_val))"
   ]
  },
  {
   "cell_type": "code",
   "execution_count": 11,
   "metadata": {},
   "outputs": [
    {
     "name": "stdout",
     "output_type": "stream",
     "text": [
      "(41858, 16, 16)\n"
     ]
    }
   ],
   "source": [
    "# View the dimensions of our input data\n",
    "print(x_train.shape)"
   ]
  },
  {
   "cell_type": "code",
   "execution_count": 12,
   "metadata": {},
   "outputs": [
    {
     "name": "stdout",
     "output_type": "stream",
     "text": [
      "(41858, 16, 16, 1)\n",
      "(5208, 16, 16, 1)\n",
      "(5223, 16, 16, 1)\n"
     ]
    }
   ],
   "source": [
    "# CNN for TF expects (batch, height, width, channels)\n",
    "# So we reshape the input tensors with a \"color\" channel of 1\n",
    "x_train = x_train.reshape(x_train.shape[0], \n",
    "                          x_train.shape[1], \n",
    "                          x_train.shape[2], \n",
    "                          1)\n",
    "x_val = x_val.reshape(x_val.shape[0], \n",
    "                      x_val.shape[1], \n",
    "                      x_val.shape[2], \n",
    "                      1)\n",
    "x_test = x_test.reshape(x_test.shape[0], \n",
    "                        x_test.shape[1], \n",
    "                        x_test.shape[2], \n",
    "                        1)\n",
    "print(x_train.shape)\n",
    "print(x_val.shape)\n",
    "print(x_test.shape)"
   ]
  },
  {
   "cell_type": "code",
   "execution_count": 13,
   "metadata": {},
   "outputs": [
    {
     "name": "stdout",
     "output_type": "stream",
     "text": [
      "(16, 16, 1)\n"
     ]
    }
   ],
   "source": [
    "# Input shape for CNN is size of MFCC of 1 sample\n",
    "sample_shape = x_test.shape[1:]\n",
    "print(sample_shape)"
   ]
  },
  {
   "cell_type": "code",
   "execution_count": 14,
   "metadata": {},
   "outputs": [],
   "source": [
    "# Build model\n",
    "# Based on: https://www.geeksforgeeks.org/python-image-classification-using-keras/\n",
    "model = models.Sequential()\n",
    "model.add(layers.Conv2D(32, \n",
    "                        (2, 2), \n",
    "                        activation='relu',\n",
    "                        input_shape=sample_shape))\n",
    "model.add(layers.MaxPooling2D(pool_size=(2, 2)))\n",
    "\n",
    "model.add(layers.Conv2D(32, (2, 2), activation='relu'))\n",
    "model.add(layers.MaxPooling2D(pool_size=(2, 2)))\n",
    "\n",
    "model.add(layers.Conv2D(64, (2, 2), activation='relu'))\n",
    "model.add(layers.MaxPooling2D(pool_size=(2, 2)))\n",
    "\n",
    "# Classifier\n",
    "model.add(layers.Flatten())\n",
    "model.add(layers.Dense(64, activation='relu'))\n",
    "model.add(layers.Dropout(0.5))\n",
    "model.add(layers.Dense(1, activation='sigmoid'))"
   ]
  },
  {
   "cell_type": "code",
   "execution_count": 15,
   "metadata": {},
   "outputs": [
    {
     "name": "stdout",
     "output_type": "stream",
     "text": [
      "Model: \"sequential\"\n",
      "_________________________________________________________________\n",
      "Layer (type)                 Output Shape              Param #   \n",
      "=================================================================\n",
      "conv2d (Conv2D)              (None, 15, 15, 32)        160       \n",
      "_________________________________________________________________\n",
      "max_pooling2d (MaxPooling2D) (None, 7, 7, 32)          0         \n",
      "_________________________________________________________________\n",
      "conv2d_1 (Conv2D)            (None, 6, 6, 32)          4128      \n",
      "_________________________________________________________________\n",
      "max_pooling2d_1 (MaxPooling2 (None, 3, 3, 32)          0         \n",
      "_________________________________________________________________\n",
      "conv2d_2 (Conv2D)            (None, 2, 2, 64)          8256      \n",
      "_________________________________________________________________\n",
      "max_pooling2d_2 (MaxPooling2 (None, 1, 1, 64)          0         \n",
      "_________________________________________________________________\n",
      "flatten (Flatten)            (None, 64)                0         \n",
      "_________________________________________________________________\n",
      "dense (Dense)                (None, 64)                4160      \n",
      "_________________________________________________________________\n",
      "dropout (Dropout)            (None, 64)                0         \n",
      "_________________________________________________________________\n",
      "dense_1 (Dense)              (None, 1)                 65        \n",
      "=================================================================\n",
      "Total params: 16,769\n",
      "Trainable params: 16,769\n",
      "Non-trainable params: 0\n",
      "_________________________________________________________________\n"
     ]
    }
   ],
   "source": [
    "# Display model\n",
    "model.summary()"
   ]
  },
  {
   "cell_type": "code",
   "execution_count": 16,
   "metadata": {},
   "outputs": [],
   "source": [
    "# Add training parameters to model\n",
    "model.compile(loss='binary_crossentropy', \n",
    "              optimizer='rmsprop', \n",
    "              metrics=['acc'])"
   ]
  },
  {
   "cell_type": "code",
   "execution_count": 17,
   "metadata": {},
   "outputs": [
    {
     "name": "stdout",
     "output_type": "stream",
     "text": [
      "Epoch 1/30\n",
      "419/419 [==============================] - 5s 12ms/step - loss: 0.2027 - acc: 0.9328 - val_loss: 0.1577 - val_acc: 0.9403\n",
      "Epoch 2/30\n",
      "419/419 [==============================] - 5s 12ms/step - loss: 0.1430 - acc: 0.9466 - val_loss: 0.1245 - val_acc: 0.9547\n",
      "Epoch 3/30\n",
      "419/419 [==============================] - 6s 15ms/step - loss: 0.1196 - acc: 0.9554 - val_loss: 0.1231 - val_acc: 0.9535\n",
      "Epoch 4/30\n",
      "419/419 [==============================] - 7s 16ms/step - loss: 0.1067 - acc: 0.9617 - val_loss: 0.0945 - val_acc: 0.9672\n",
      "Epoch 5/30\n",
      "419/419 [==============================] - 7s 16ms/step - loss: 0.0968 - acc: 0.9652 - val_loss: 0.0951 - val_acc: 0.9675\n",
      "Epoch 6/30\n",
      "419/419 [==============================] - 6s 15ms/step - loss: 0.0908 - acc: 0.9674 - val_loss: 0.0852 - val_acc: 0.9699\n",
      "Epoch 7/30\n",
      "419/419 [==============================] - 7s 16ms/step - loss: 0.0846 - acc: 0.9702 - val_loss: 0.0848 - val_acc: 0.9697\n",
      "Epoch 8/30\n",
      "419/419 [==============================] - 6s 16ms/step - loss: 0.0792 - acc: 0.9717 - val_loss: 0.0799 - val_acc: 0.9706\n",
      "Epoch 9/30\n",
      "419/419 [==============================] - 6s 15ms/step - loss: 0.0766 - acc: 0.9734 - val_loss: 0.0899 - val_acc: 0.9643\n",
      "Epoch 10/30\n",
      "419/419 [==============================] - 6s 15ms/step - loss: 0.0748 - acc: 0.9745 - val_loss: 0.0756 - val_acc: 0.9735\n",
      "Epoch 11/30\n",
      "419/419 [==============================] - 6s 15ms/step - loss: 0.0733 - acc: 0.9742 - val_loss: 0.0741 - val_acc: 0.9737\n",
      "Epoch 12/30\n",
      "419/419 [==============================] - 6s 14ms/step - loss: 0.0705 - acc: 0.9760 - val_loss: 0.0915 - val_acc: 0.9733\n",
      "Epoch 13/30\n",
      "419/419 [==============================] - 6s 15ms/step - loss: 0.0742 - acc: 0.9751 - val_loss: 0.0832 - val_acc: 0.9716\n",
      "Epoch 14/30\n",
      "419/419 [==============================] - 6s 15ms/step - loss: 0.0708 - acc: 0.9759 - val_loss: 0.0910 - val_acc: 0.9724\n",
      "Epoch 15/30\n",
      "419/419 [==============================] - 6s 14ms/step - loss: 0.0773 - acc: 0.9754 - val_loss: 0.0899 - val_acc: 0.9724\n",
      "Epoch 16/30\n",
      "419/419 [==============================] - 6s 14ms/step - loss: 0.0685 - acc: 0.9758 - val_loss: 0.0841 - val_acc: 0.9739\n",
      "Epoch 17/30\n",
      "419/419 [==============================] - 6s 14ms/step - loss: 0.0761 - acc: 0.9763 - val_loss: 0.0874 - val_acc: 0.9725\n",
      "Epoch 18/30\n",
      "419/419 [==============================] - 6s 14ms/step - loss: 0.0876 - acc: 0.9752 - val_loss: 0.0937 - val_acc: 0.9714\n",
      "Epoch 19/30\n",
      "419/419 [==============================] - 6s 14ms/step - loss: 0.0757 - acc: 0.9760 - val_loss: 0.1041 - val_acc: 0.9700\n",
      "Epoch 20/30\n",
      "419/419 [==============================] - 6s 14ms/step - loss: 0.0763 - acc: 0.9759 - val_loss: 0.1014 - val_acc: 0.9683\n",
      "Epoch 21/30\n",
      "419/419 [==============================] - 6s 14ms/step - loss: 0.0864 - acc: 0.9752 - val_loss: 0.1177 - val_acc: 0.9733\n",
      "Epoch 22/30\n",
      "419/419 [==============================] - 6s 14ms/step - loss: 0.0904 - acc: 0.9743 - val_loss: 0.1786 - val_acc: 0.9462\n",
      "Epoch 23/30\n",
      "419/419 [==============================] - 6s 14ms/step - loss: 0.0792 - acc: 0.9744 - val_loss: 0.1121 - val_acc: 0.9647\n",
      "Epoch 24/30\n",
      "419/419 [==============================] - 6s 14ms/step - loss: 0.1132 - acc: 0.9748 - val_loss: 0.1960 - val_acc: 0.9691\n",
      "Epoch 25/30\n",
      "419/419 [==============================] - 6s 14ms/step - loss: 0.0867 - acc: 0.9747 - val_loss: 0.0908 - val_acc: 0.9716\n",
      "Epoch 26/30\n",
      "419/419 [==============================] - 5s 13ms/step - loss: 0.0857 - acc: 0.9725 - val_loss: 0.1425 - val_acc: 0.9491\n",
      "Epoch 27/30\n",
      "419/419 [==============================] - 5s 13ms/step - loss: 0.0802 - acc: 0.9731 - val_loss: 0.2397 - val_acc: 0.9301\n",
      "Epoch 28/30\n",
      "419/419 [==============================] - 5s 13ms/step - loss: 0.0975 - acc: 0.9728 - val_loss: 0.1900 - val_acc: 0.9343\n",
      "Epoch 29/30\n",
      "419/419 [==============================] - 6s 13ms/step - loss: 0.0920 - acc: 0.9721 - val_loss: 0.1358 - val_acc: 0.9685\n",
      "Epoch 30/30\n",
      "419/419 [==============================] - 5s 13ms/step - loss: 0.0880 - acc: 0.9739 - val_loss: 0.1022 - val_acc: 0.9729\n"
     ]
    }
   ],
   "source": [
    "# Train\n",
    "history = model.fit(x_train, \n",
    "                    y_train, \n",
    "                    epochs=30, \n",
    "                    batch_size=100, \n",
    "                    validation_data=(x_val, y_val))"
   ]
  },
  {
   "cell_type": "code",
   "execution_count": 18,
   "metadata": {},
   "outputs": [
    {
     "data": {
      "image/png": "[encoded data removed]",
      "text/plain": [
       "<Figure size 432x288 with 1 Axes>"
      ]
     },
     "metadata": {
      "needs_background": "light"
     },
     "output_type": "display_data"
    },
    {
     "data": {
      "image/png": "[encoded data removed]",
      "text/plain": [
       "<Figure size 432x288 with 1 Axes>"
      ]
     },
     "metadata": {
      "needs_background": "light"
     },
     "output_type": "display_data"
    }
   ],
   "source": [
    "# Plot results\n",
    "import matplotlib.pyplot as plt\n",
    "\n",
    "acc = history.history['acc']\n",
    "val_acc = history.history['val_acc']\n",
    "loss = history.history['loss']\n",
    "val_loss = history.history['val_loss']\n",
    "\n",
    "epochs = range(1, len(acc) + 1)\n",
    "\n",
    "plt.plot(epochs, acc, 'bo', label='Training acc')\n",
    "plt.plot(epochs, val_acc, 'b', label='Validation acc')\n",
    "plt.title('Training and validation accuracy')\n",
    "plt.legend()\n",
    "\n",
    "plt.figure()\n",
    "\n",
    "plt.plot(epochs, loss, 'bo', label='Training loss')\n",
    "plt.plot(epochs, val_loss, 'b', label='Validation loss')\n",
    "plt.title('Training and validation loss')\n",
    "plt.legend()\n",
    "\n",
    "plt.show()"
   ]
  },
  {
   "cell_type": "code",
   "execution_count": 19,
   "metadata": {},
   "outputs": [],
   "source": [
    "# Save the model as a file\n",
    "models.save_model(model, model_filename)"
   ]
  },
  {
   "cell_type": "code",
   "execution_count": 20,
   "metadata": {},
   "outputs": [
    {
     "name": "stdout",
     "output_type": "stream",
     "text": [
      "4\n",
      "45\n",
      "73\n",
      "95\n",
      "107\n",
      "124\n",
      "133\n",
      "159\n",
      "164\n",
      "165\n",
      "168\n",
      "172\n",
      "180\n",
      "187\n",
      "195\n",
      "198\n",
      "236\n",
      "239\n",
      "270\n",
      "281\n",
      "308\n",
      "311\n",
      "316\n",
      "317\n",
      "321\n",
      "330\n",
      "335\n",
      "349\n",
      "350\n",
      "361\n",
      "379\n",
      "384\n",
      "413\n",
      "417\n",
      "434\n",
      "436\n",
      "465\n",
      "474\n",
      "503\n",
      "504\n",
      "527\n",
      "539\n",
      "556\n",
      "557\n",
      "563\n",
      "572\n",
      "573\n",
      "581\n",
      "603\n",
      "614\n",
      "621\n",
      "633\n",
      "647\n",
      "649\n",
      "675\n",
      "681\n",
      "686\n",
      "701\n",
      "702\n",
      "727\n",
      "764\n",
      "772\n",
      "801\n",
      "819\n",
      "850\n",
      "854\n",
      "862\n",
      "889\n",
      "903\n",
      "905\n",
      "916\n",
      "920\n",
      "947\n",
      "977\n",
      "985\n",
      "992\n",
      "993\n",
      "999\n",
      "1020\n",
      "1037\n",
      "1055\n",
      "1059\n",
      "1069\n",
      "1072\n",
      "1074\n",
      "1079\n",
      "1085\n",
      "1088\n",
      "1093\n",
      "1113\n",
      "1122\n",
      "1124\n",
      "1147\n",
      "1152\n",
      "1190\n",
      "1213\n",
      "1216\n",
      "1224\n",
      "1227\n",
      "1230\n",
      "1240\n",
      "1291\n",
      "1297\n",
      "1298\n",
      "1305\n",
      "1329\n",
      "1358\n",
      "1374\n",
      "1382\n",
      "1413\n",
      "1427\n",
      "1440\n",
      "1459\n",
      "1460\n",
      "1487\n",
      "1496\n",
      "1505\n",
      "1516\n",
      "1528\n",
      "1530\n",
      "1531\n",
      "1540\n",
      "1548\n",
      "1575\n",
      "1660\n",
      "1667\n",
      "1668\n",
      "1692\n",
      "1720\n",
      "1728\n",
      "1744\n",
      "1753\n",
      "1762\n",
      "1791\n",
      "1793\n",
      "1818\n",
      "1846\n",
      "1879\n",
      "1890\n",
      "1912\n",
      "1920\n",
      "1943\n",
      "1945\n",
      "1997\n",
      "2002\n",
      "2017\n",
      "2024\n",
      "2033\n",
      "2039\n",
      "2047\n",
      "2073\n",
      "2079\n",
      "2093\n",
      "2121\n",
      "2153\n",
      "2168\n",
      "2169\n",
      "2179\n",
      "2203\n",
      "2222\n",
      "2229\n",
      "2238\n",
      "2239\n",
      "2248\n",
      "2249\n",
      "2252\n",
      "2277\n",
      "2281\n",
      "2291\n",
      "2323\n",
      "2347\n",
      "2352\n",
      "2368\n",
      "2388\n",
      "2392\n",
      "2407\n",
      "2408\n",
      "2409\n",
      "2410\n",
      "2415\n",
      "2433\n",
      "2435\n",
      "2442\n",
      "2472\n",
      "2483\n",
      "2493\n",
      "2503\n",
      "2515\n",
      "2525\n",
      "2526\n",
      "2528\n",
      "2535\n",
      "2563\n",
      "2578\n",
      "2589\n",
      "2609\n",
      "2640\n",
      "2645\n",
      "2676\n",
      "2685\n",
      "2692\n",
      "2695\n",
      "2697\n",
      "2716\n",
      "2719\n",
      "2749\n",
      "2763\n",
      "2769\n",
      "2770\n",
      "2790\n",
      "2864\n",
      "2867\n",
      "2885\n",
      "2887\n",
      "2906\n",
      "2922\n",
      "2930\n",
      "2944\n",
      "2957\n",
      "3005\n",
      "3014\n",
      "3017\n",
      "3026\n",
      "3057\n",
      "3058\n",
      "3066\n",
      "3076\n",
      "3113\n",
      "3137\n",
      "3148\n",
      "3178\n",
      "3179\n",
      "3196\n",
      "3228\n",
      "3258\n",
      "3272\n",
      "3273\n",
      "3296\n",
      "3316\n",
      "3326\n",
      "3333\n",
      "3346\n",
      "3349\n",
      "3377\n",
      "3385\n",
      "3390\n",
      "3409\n",
      "3437\n",
      "3450\n",
      "3464\n",
      "3492\n",
      "3495\n",
      "3504\n",
      "3524\n",
      "3526\n",
      "3543\n",
      "3554\n",
      "3581\n",
      "3587\n",
      "3593\n",
      "3601\n",
      "3605\n",
      "3613\n",
      "3619\n",
      "3621\n",
      "3633\n",
      "3658\n",
      "3666\n",
      "3667\n",
      "3670\n",
      "3708\n",
      "3713\n",
      "3720\n",
      "3723\n",
      "3731\n",
      "3746\n",
      "3751\n",
      "3753\n",
      "3756\n",
      "3784\n",
      "3786\n",
      "3798\n",
      "3819\n",
      "3826\n",
      "3841\n",
      "3861\n",
      "3878\n",
      "3885\n",
      "3938\n",
      "3964\n",
      "3975\n",
      "3988\n",
      "4017\n",
      "4072\n",
      "4078\n",
      "4095\n",
      "4107\n",
      "4109\n",
      "4131\n",
      "4135\n",
      "4159\n",
      "4191\n",
      "4199\n",
      "4200\n",
      "4206\n",
      "4210\n",
      "4231\n",
      "4269\n",
      "4272\n",
      "4291\n",
      "4296\n",
      "4319\n",
      "4330\n",
      "4343\n",
      "4350\n",
      "4356\n",
      "4362\n",
      "4375\n",
      "4381\n",
      "4400\n",
      "4410\n",
      "4428\n",
      "4435\n",
      "4436\n",
      "4437\n",
      "4456\n",
      "4472\n",
      "4476\n",
      "4501\n",
      "4507\n",
      "4514\n",
      "4523\n",
      "4538\n",
      "4548\n",
      "4559\n",
      "4585\n",
      "4628\n",
      "4633\n",
      "4642\n",
      "4643\n",
      "4654\n",
      "4685\n",
      "4693\n",
      "4695\n",
      "4701\n",
      "4723\n",
      "4744\n",
      "4753\n",
      "4754\n",
      "4796\n",
      "4798\n",
      "4799\n",
      "4814\n",
      "4820\n",
      "4834\n",
      "4840\n",
      "4847\n",
      "4853\n",
      "4862\n",
      "4870\n",
      "4873\n",
      "4893\n",
      "4933\n",
      "4945\n",
      "4962\n",
      "4977\n",
      "4999\n",
      "5003\n",
      "5009\n",
      "5010\n",
      "5012\n",
      "5023\n",
      "5027\n",
      "5030\n",
      "5032\n",
      "5062\n",
      "5072\n",
      "5095\n",
      "5122\n",
      "5177\n",
      "5182\n",
      "5220\n"
     ]
    }
   ],
   "source": [
    "# See which are 'no'\n",
    "for idx, y in enumerate(y_test):\n",
    "    if y == 1:\n",
    "        print(idx)"
   ]
  },
  {
   "cell_type": "code",
   "execution_count": 22,
   "metadata": {},
   "outputs": [
    {
     "name": "stdout",
     "output_type": "stream",
     "text": [
      "Answer: 1.0  Prediction: [[0.9116947]]\n",
      "Answer: 0.0  Prediction: [[2.0842739e-23]]\n",
      "Answer: 0.0  Prediction: [[0.00034767]]\n",
      "Answer: 0.0  Prediction: [[0.05026023]]\n",
      "Answer: 0.0  Prediction: [[0.00664207]]\n",
      "Answer: 0.0  Prediction: [[0.01647476]]\n",
      "Answer: 0.0  Prediction: [[3.4202046e-07]]\n",
      "Answer: 1.0  Prediction: [[6.5463565e-14]]\n",
      "Answer: 0.0  Prediction: [[0.04764585]]\n",
      "Answer: 0.0  Prediction: [[0.0001441]]\n",
      "Answer: 0.0  Prediction: [[0.00979885]]\n",
      "Answer: 0.0  Prediction: [[2.3152835e-07]]\n",
      "Answer: 0.0  Prediction: [[3.223868e-11]]\n",
      "Answer: 0.0  Prediction: [[5.8462446e-17]]\n",
      "Answer: 0.0  Prediction: [[3.3782847e-17]]\n",
      "Answer: 1.0  Prediction: [[0.99999833]]\n",
      "Answer: 0.0  Prediction: [[4.536158e-09]]\n",
      "Answer: 0.0  Prediction: [[6.46986e-05]]\n",
      "Answer: 1.0  Prediction: [[0.9743412]]\n",
      "Answer: 0.0  Prediction: [[6.3874486e-13]]\n"
     ]
    }
   ],
   "source": [
    "# TEST: Load model and run it against test set\n",
    "model = models.load_model(model_filename)\n",
    "for i in range(180, 200):\n",
    "    print('Answer:', y_test[i], ' Prediction:', model.predict(np.expand_dims(x_test[i], 0)))"
   ]
  },
  {
   "cell_type": "code",
   "execution_count": 23,
   "metadata": {},
   "outputs": [
    {
     "name": "stdout",
     "output_type": "stream",
     "text": [
      "164/164 [==============================] - 0s 2ms/step - loss: 0.2978 - acc: 0.9711\n"
     ]
    },
    {
     "data": {
      "text/plain": [
       "[0.2978014647960663, 0.9710894227027893]"
      ]
     },
     "execution_count": 23,
     "metadata": {},
     "output_type": "execute_result"
    }
   ],
   "source": [
    "# Evaluate model with test set\n",
    "model.evaluate(x=x_test, y=y_test)"
   ]
  },
  {
   "cell_type": "code",
   "execution_count": null,
   "metadata": {},
   "outputs": [],
   "source": []
  }
 ],
 "metadata": {
  "kernelspec": {
   "display_name": "Python 3",
   "language": "python",
   "name": "python3"
  },
  "language_info": {
   "codemirror_mode": {
    "name": "ipython",
    "version": 3
   },
   "file_extension": ".py",
   "mimetype": "text/x-python",
   "name": "python",
   "nbconvert_exporter": "python",
   "pygments_lexer": "ipython3",
   "version": "3.7.6"
  }
 },
 "nbformat": 4,
 "nbformat_minor": 4
}
