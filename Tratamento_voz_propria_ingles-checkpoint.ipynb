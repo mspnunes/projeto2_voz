{
 "cells": [
  {
   "cell_type": "code",
   "execution_count": 1,
   "metadata": {},
   "outputs": [],
   "source": [
    "from os import listdir\n",
    "from os.path import isdir, join\n",
    "import librosa\n",
    "import random\n",
    "import numpy as np\n",
    "import matplotlib.pyplot as plt\n",
    "import python_speech_features"
   ]
  },
  {
   "cell_type": "code",
   "execution_count": 2,
   "metadata": {},
   "outputs": [
    {
     "name": "stdout",
     "output_type": "stream",
     "text": [
      "no_testes\n",
      "outros\n",
      "yes_testes\n"
     ]
    }
   ],
   "source": [
    "# Dataset path and view possible targets\n",
    "dataset_path = 'C:\\\\Users\\\\jmnun\\\\OneDrive\\\\Ambiente de Trabalho\\\\MiEEC\\\\3ano\\\\projeto2\\\\voz_ingles_testes'\n",
    "for name in listdir(dataset_path):\n",
    "    if isdir(join(dataset_path, name)):\n",
    "        print(name)"
   ]
  },
  {
   "cell_type": "code",
   "execution_count": 3,
   "metadata": {},
   "outputs": [
    {
     "name": "stdout",
     "output_type": "stream",
     "text": [
      "['no_testes', 'outros', 'yes_testes']\n"
     ]
    }
   ],
   "source": [
    "# Create an all targets list\n",
    "all_targets = [name for name in listdir(dataset_path) if isdir(join(dataset_path, name))]\n",
    "print(all_targets)"
   ]
  },
  {
   "cell_type": "code",
   "execution_count": 4,
   "metadata": {},
   "outputs": [
    {
     "name": "stdout",
     "output_type": "stream",
     "text": [
      "10\n",
      "3\n",
      "5\n",
      "Total samples: 18\n"
     ]
    }
   ],
   "source": [
    "# See how many files are in each\n",
    "num_samples = 0\n",
    "for target in all_targets:\n",
    "    print(len(listdir(join(dataset_path, target))))\n",
    "    num_samples += len(listdir(join(dataset_path, target)))\n",
    "print('Total samples:', num_samples)"
   ]
  },
  {
   "cell_type": "code",
   "execution_count": 5,
   "metadata": {},
   "outputs": [],
   "source": [
    "# Settings\n",
    "target_list = all_targets\n",
    "feature_sets_file = 'all_targets_mfcc_sets_final_mine.npz'\n",
    "perc_keep_samples = 1.0 # 1.0 is keep all samples\n",
    "val_ratio = 0\n",
    "test_ratio = 0\n",
    "sample_rate = 8000\n",
    "num_mfcc = 16\n",
    "len_mfcc = 16"
   ]
  },
  {
   "cell_type": "code",
   "execution_count": 6,
   "metadata": {},
   "outputs": [
    {
     "name": "stdout",
     "output_type": "stream",
     "text": [
      "C:\\Users\\jmnun\\OneDrive\\Ambiente de Trabalho\\MiEEC\\3ano\\projeto2\\voz_ingles_testes\\no_testes\n",
      "C:\\Users\\jmnun\\OneDrive\\Ambiente de Trabalho\\MiEEC\\3ano\\projeto2\\voz_ingles_testes\\outros\n",
      "C:\\Users\\jmnun\\OneDrive\\Ambiente de Trabalho\\MiEEC\\3ano\\projeto2\\voz_ingles_testes\\yes_testes\n"
     ]
    }
   ],
   "source": [
    "# Create list of filenames along with ground truth vector (y)\n",
    "filenames = []\n",
    "y = []\n",
    "for index, target in enumerate(target_list):\n",
    "    print(join(dataset_path, target))\n",
    "    filenames.append(listdir(join(dataset_path, target)))\n",
    "    y.append(np.ones(len(filenames[index])) * index)"
   ]
  },
  {
   "cell_type": "code",
   "execution_count": 7,
   "metadata": {},
   "outputs": [
    {
     "name": "stdout",
     "output_type": "stream",
     "text": [
      "[array([0., 0., 0., 0., 0., 0., 0., 0., 0., 0.]), array([1., 1., 1.]), array([2., 2., 2., 2., 2.])]\n",
      "10\n",
      "3\n",
      "5\n"
     ]
    }
   ],
   "source": [
    "# Check ground truth Y vector\n",
    "print(y)\n",
    "for item in y:\n",
    "    print(len(item))"
   ]
  },
  {
   "cell_type": "code",
   "execution_count": 8,
   "metadata": {},
   "outputs": [],
   "source": [
    "# Flatten filename and y vectors\n",
    "filenames = [item for sublist in filenames for item in sublist]\n",
    "y = [item for sublist in y for item in sublist]"
   ]
  },
  {
   "cell_type": "code",
   "execution_count": 9,
   "metadata": {},
   "outputs": [],
   "source": [
    "# Associate filenames with true output and shuffle\n",
    "filenames_y = list(zip(filenames, y))\n",
    "random.shuffle(filenames_y)\n",
    "filenames, y = zip(*filenames_y)"
   ]
  },
  {
   "cell_type": "code",
   "execution_count": 10,
   "metadata": {},
   "outputs": [
    {
     "name": "stdout",
     "output_type": "stream",
     "text": [
      "18\n",
      "18\n"
     ]
    }
   ],
   "source": [
    "# Only keep the specified number of samples (shorter extraction/training)\n",
    "print(len(filenames))\n",
    "filenames = filenames[:int(len(filenames) * perc_keep_samples)]\n",
    "print(len(filenames))"
   ]
  },
  {
   "cell_type": "code",
   "execution_count": 11,
   "metadata": {},
   "outputs": [],
   "source": [
    "# Calculate validation and test set sizes\n",
    "val_set_size = int(len(filenames) * val_ratio)\n",
    "test_set_size = int(len(filenames) * test_ratio)"
   ]
  },
  {
   "cell_type": "code",
   "execution_count": 12,
   "metadata": {},
   "outputs": [],
   "source": [
    "# Break dataset apart into train, validation, and test sets\n",
    "filenames_val = filenames[:val_set_size]\n",
    "filenames_test = filenames[val_set_size:(val_set_size + test_set_size)]\n",
    "filenames_train = filenames[(val_set_size + test_set_size):]"
   ]
  },
  {
   "cell_type": "code",
   "execution_count": 13,
   "metadata": {},
   "outputs": [],
   "source": [
    "# Break y apart into train, validation, and test sets\n",
    "y_orig_val = y[:val_set_size]\n",
    "y_orig_test = y[val_set_size:(val_set_size + test_set_size)]\n",
    "y_orig_train = y[(val_set_size + test_set_size):]"
   ]
  },
  {
   "cell_type": "code",
   "execution_count": 14,
   "metadata": {},
   "outputs": [],
   "source": [
    "# Function: Create MFCC from given path\n",
    "def calc_mfcc(path):\n",
    "    \n",
    "    # Load wavefile\n",
    "    signal, fs = librosa.load(path, sr=sample_rate)\n",
    "    \n",
    "    # Create MFCCs from sound clip\n",
    "    mfccs = python_speech_features.base.mfcc(signal, \n",
    "                                            samplerate=fs,\n",
    "                                            winlen=0.256,\n",
    "                                            winstep=0.050,\n",
    "                                            numcep=num_mfcc,\n",
    "                                            nfilt=26,\n",
    "                                            nfft=2048,\n",
    "                                            preemph=0.0,\n",
    "                                            ceplifter=0,\n",
    "                                            appendEnergy=False,\n",
    "                                            winfunc=np.hanning)\n",
    "    return mfccs.transpose()"
   ]
  },
  {
   "cell_type": "code",
   "execution_count": 15,
   "metadata": {},
   "outputs": [
    {
     "name": "stdout",
     "output_type": "stream",
     "text": [
      "Dropped: 2 (16, 14)\n",
      "Dropped: 5 (16, 14)\n",
      "Dropped: 6 (16, 28)\n",
      "Dropped: 17 (16, 14)\n"
     ]
    }
   ],
   "source": [
    "# TEST: Construct test set by computing MFCC of each WAV file\n",
    "prob_cnt = 0\n",
    "x_test = []\n",
    "y_test = []\n",
    "for index, filename in enumerate(filenames_train):\n",
    "    \n",
    "    # Stop after 500\n",
    "    if index >= 500:\n",
    "        break\n",
    "    \n",
    "    # Create path from given filename and target item\n",
    "    path = join(dataset_path, target_list[int(y_orig_train[index])], \n",
    "                filename)\n",
    "    \n",
    "    # Create MFCCs\n",
    "    mfccs = calc_mfcc(path)\n",
    "    \n",
    "    if mfccs.shape[1] == len_mfcc:\n",
    "        x_test.append(mfccs)\n",
    "        y_test.append(y_orig_train[index])\n",
    "    else:\n",
    "        print('Dropped:', index, mfccs.shape)\n",
    "        prob_cnt += 1"
   ]
  },
  {
   "cell_type": "code",
   "execution_count": 16,
   "metadata": {},
   "outputs": [
    {
     "name": "stdout",
     "output_type": "stream",
     "text": [
      "% of problematic samples: 0.008\n"
     ]
    }
   ],
   "source": [
    "print('% of problematic samples:', prob_cnt / 500)"
   ]
  },
  {
   "cell_type": "code",
   "execution_count": 17,
   "metadata": {},
   "outputs": [
    {
     "name": "stdout",
     "output_type": "stream",
     "text": [
      "C:\\Users\\jmnun\\OneDrive\\Ambiente de Trabalho\\MiEEC\\3ano\\projeto2\\voz_ingles_testes\\no_testes\\304 (mp3cut.net).wav\n",
      "MFCCs: [[-6.32347083e+01 -5.25686844e+01 -4.06000506e+01 -2.97835768e+01\n",
      "  -2.55095770e+01 -2.52958622e+01 -2.75570860e+01 -3.11401998e+01\n",
      "  -3.65753835e+01 -4.29389320e+01 -4.75677762e+01 -5.13520837e+01\n",
      "  -5.38594413e+01 -5.60961797e+01 -5.84198344e+01 -6.06604029e+01]\n",
      " [ 9.40862674e+00  1.50498122e+01  1.34015751e+01  9.72445221e+00\n",
      "   7.71907824e+00  7.52305467e+00  9.20274602e+00  1.09284753e+01\n",
      "   1.28731416e+01  1.47002978e+01  1.48904771e+01  1.34799093e+01\n",
      "   1.23681947e+01  1.15049126e+01  1.04806813e+01  9.19158747e+00]\n",
      " [ 1.74536999e+00  2.36112925e+00  1.26529353e+00 -1.68040698e+00\n",
      "  -4.19069105e+00 -5.72171181e+00 -5.63568415e+00 -4.61298711e+00\n",
      "  -3.49098729e+00 -2.30885969e+00 -1.43525178e+00  2.05769590e-01\n",
      "   1.08481736e+00  2.21531975e+00  2.18716613e+00  1.32892671e+00]\n",
      " [-8.21652537e-01 -1.97923261e+00 -3.04160469e+00 -4.10093313e+00\n",
      "  -4.96995452e+00 -5.86729027e+00 -6.66441437e+00 -7.02413665e+00\n",
      "  -6.74243730e+00 -6.05827105e+00 -3.55863965e+00 -4.50238291e-01\n",
      "   5.42256430e-01  8.06319904e-01  6.68592974e-01 -8.85010210e-02]\n",
      " [-1.70630626e+00 -4.98979060e+00 -3.82293959e+00 -1.61307904e+00\n",
      "  -1.15308220e-01  6.47918839e-01  5.14832109e-01  5.26803032e-02\n",
      "   1.78973873e-01  2.45538106e-01  8.28617517e-01  1.73216831e+00\n",
      "   2.30561995e+00  2.19001425e+00  1.01574269e+00 -1.86636841e-02]\n",
      " [-2.88586155e+00 -3.93295692e+00 -5.47014886e+00 -6.32296563e+00\n",
      "  -5.26401140e+00 -3.97791200e+00 -2.36204214e+00 -1.55952297e+00\n",
      "  -1.30249871e+00 -9.72310078e-01  2.86623271e-01  1.39630660e+00\n",
      "   1.50794953e+00  9.69899889e-01  5.15891191e-01  8.73986106e-02]\n",
      " [-3.21774041e+00 -6.43175709e+00 -5.35235560e+00 -3.73863801e+00\n",
      "  -3.46642077e+00 -4.17043598e+00 -5.12379618e+00 -5.33702752e+00\n",
      "  -5.37146941e+00 -5.10520468e+00 -4.15694405e+00 -2.42897120e+00\n",
      "  -9.00794989e-01 -3.67893369e-01  3.27778348e-04 -1.80130844e-01]\n",
      " [-3.28807625e+00 -3.85056773e+00 -3.81594925e+00 -3.03925641e+00\n",
      "  -2.73452730e+00 -3.08594906e+00 -3.63801320e+00 -4.30346910e+00\n",
      "  -4.24835165e+00 -4.11000116e+00 -3.69957676e+00 -2.09925326e+00\n",
      "  -4.32538014e-01  3.30969288e-01  4.67555237e-01 -3.23367711e-02]\n",
      " [-2.10065057e+00 -1.93626328e+00 -2.55991199e+00 -3.81502399e+00\n",
      "  -3.92800350e+00 -3.64329605e+00 -2.59160671e+00 -1.89494312e+00\n",
      "  -1.71766211e+00 -2.50315400e+00 -2.17169776e+00 -8.26788870e-01\n",
      "   3.24432767e-01  5.90342927e-01  4.96762246e-01  9.89375059e-02]\n",
      " [-9.85256012e-01 -1.83396716e+00 -3.34390388e+00 -4.15188455e+00\n",
      "  -4.39695194e+00 -4.07229105e+00 -3.09635697e+00 -2.16915707e+00\n",
      "  -1.50296271e+00 -1.08678821e+00 -1.55534828e+00 -1.87997117e+00\n",
      "  -1.10804969e+00 -2.82826988e-01  1.75257178e-01  4.79380775e-01]\n",
      " [-2.77780100e-01  1.24808817e-01  8.59596867e-01 -5.45280901e-01\n",
      "  -1.86693679e+00 -2.85072765e+00 -3.81876050e+00 -3.87445470e+00\n",
      "  -3.19666163e+00 -1.97658476e+00 -1.18379352e+00 -1.06419229e+00\n",
      "  -6.33778383e-01 -3.26673911e-01 -2.68957896e-01  1.43154473e-02]\n",
      " [ 4.14117365e-01 -2.30430566e+00 -2.34714410e+00 -1.08772829e+00\n",
      "  -1.05048845e+00 -1.18423756e+00 -1.27388399e+00 -1.84087298e+00\n",
      "  -2.08731915e+00 -1.74598404e+00 -1.22992346e+00 -7.99485715e-01\n",
      "  -3.41952332e-01  4.31599380e-02  3.47346509e-01  4.83101214e-01]\n",
      " [ 4.58765332e-01 -4.24546431e-01 -1.16005661e+00 -1.06114404e+00\n",
      "  -1.44345853e+00 -1.86136273e+00 -2.33452454e+00 -2.69820045e+00\n",
      "  -2.82501610e+00 -2.60711669e+00 -1.66142344e+00 -1.54879551e-01\n",
      "  -2.21179344e-01 -4.18935646e-01 -5.31353803e-01 -5.63037303e-01]\n",
      " [ 1.36736017e+00  1.51176778e+00  9.79930906e-01  1.09319740e-01\n",
      "  -4.45636138e-01 -2.92379921e-01  6.16935027e-02  1.37538744e-01\n",
      "  -2.28505786e-01 -3.63118967e-01  4.70438983e-01  1.21158282e+00\n",
      "   3.12937242e-01 -3.42193536e-01 -2.74630326e-01  4.17566565e-02]\n",
      " [ 1.14297819e+00  4.95598515e-01  9.64591580e-02 -7.14527652e-01\n",
      "  -1.04887250e+00 -1.07706559e+00 -1.07325542e+00 -1.10555071e+00\n",
      "  -6.90141546e-01 -3.56457920e-01 -1.29846051e-01 -3.56919761e-01\n",
      "  -7.62306950e-01 -5.16879850e-01 -2.61583241e-01  4.96445964e-03]\n",
      " [ 1.11427778e+00  1.63396663e+00  8.36442610e-01  2.52768698e-01\n",
      "   4.32946401e-02 -5.55886244e-02  2.04000202e-01  2.12378141e-01\n",
      "   7.10923004e-01  1.51824534e+00  1.20341852e+00  1.80089861e-01\n",
      "  -1.11811412e-01 -2.04541261e-01 -9.32042124e-02  1.49549516e-01]]\n",
      "no_testes\n"
     ]
    },
    {
     "data": {
      "image/png": "[encoded data removed]",
      "text/plain": [
       "<Figure size 432x288 with 1 Axes>"
      ]
     },
     "metadata": {
      "needs_background": "light"
     },
     "output_type": "display_data"
    }
   ],
   "source": [
    "# TEST: Test shorter MFCC\n",
    "# !pip install playsound\n",
    "from playsound import playsound\n",
    "\n",
    "idx = 12\n",
    "\n",
    "# Create path from given filename and target item\n",
    "path = join(dataset_path, target_list[int(y_orig_train[idx])], \n",
    "            filenames_train[idx])\n",
    "\n",
    "print(path)\n",
    "\n",
    "# Create MFCCs\n",
    "mfccs = calc_mfcc(path)\n",
    "print(\"MFCCs:\", mfccs)\n",
    "\n",
    "# Plot MFCC\n",
    "fig = plt.figure()\n",
    "plt.imshow(mfccs, cmap='inferno', origin='lower')\n",
    "\n",
    "# TEST: Play problem sounds\n",
    "print(target_list[int(y_orig_train[idx])])\n",
    "playsound(path)"
   ]
  },
  {
   "cell_type": "code",
   "execution_count": 18,
   "metadata": {},
   "outputs": [],
   "source": [
    "# Function: Create MFCCs, keeping only ones of desired length\n",
    "def extract_features(in_files, in_y):\n",
    "    prob_cnt = 0\n",
    "    out_x = []\n",
    "    out_y = []\n",
    "        \n",
    "    for index, filename in enumerate(in_files):\n",
    "    \n",
    "        # Create path from given filename and target item\n",
    "        path = join(dataset_path, target_list[int(in_y[index])], \n",
    "                    filename)\n",
    "        \n",
    "        # Check to make sure we're reading a .wav file\n",
    "        if not path.endswith('.wav'):\n",
    "            continue\n",
    "\n",
    "        # Create MFCCs\n",
    "        mfccs = calc_mfcc(path)\n",
    "\n",
    "        # Only keep MFCCs with given length\n",
    "        if mfccs.shape[1] == len_mfcc:\n",
    "            out_x.append(mfccs)\n",
    "            out_y.append(in_y[index])\n",
    "        else:\n",
    "            print('Dropped:', index, mfccs.shape)\n",
    "            prob_cnt += 1\n",
    "            \n",
    "    return out_x, out_y, prob_cnt"
   ]
  },
  {
   "cell_type": "code",
   "execution_count": 19,
   "metadata": {},
   "outputs": [
    {
     "name": "stdout",
     "output_type": "stream",
     "text": [
      "Dropped: 2 (16, 14)\n",
      "Dropped: 5 (16, 14)\n",
      "Dropped: 6 (16, 28)\n",
      "Dropped: 17 (16, 14)\n",
      "Removed percentage: 0.2222222222222222\n"
     ]
    }
   ],
   "source": [
    "# Create train, validation, and test sets\n",
    "x_train, y_train, prob = extract_features(filenames_train, \n",
    "                                          y_orig_train)\n",
    "print('Removed percentage:', prob / len(y_orig_train))\n",
    "x_val, y_val, prob = extract_features(filenames_val, y_orig_val)\n",
    "#print('Removed percentage:', prob / len(y_orig_val))\n",
    "x_test, y_test, prob = extract_features(filenames_test, y_orig_test)\n",
    "#print('Removed percentage:', prob / len(y_orig_test))"
   ]
  },
  {
   "cell_type": "code",
   "execution_count": 20,
   "metadata": {},
   "outputs": [],
   "source": [
    "# Save features and truth vector (y) sets to disk\n",
    "np.savez(feature_sets_file, \n",
    "         x_train=x_train, \n",
    "         y_train=y_train, \n",
    "         x_val=x_val, \n",
    "         y_val=y_val, \n",
    "         x_test=x_test, \n",
    "         y_test=y_test)"
   ]
  },
  {
   "cell_type": "code",
   "execution_count": 21,
   "metadata": {},
   "outputs": [
    {
     "data": {
      "text/plain": [
       "['x_train', 'y_train', 'x_val', 'y_val', 'x_test', 'y_test']"
      ]
     },
     "execution_count": 21,
     "metadata": {},
     "output_type": "execute_result"
    }
   ],
   "source": [
    "# TEST: Load features\n",
    "feature_sets = np.load(feature_sets_file)\n",
    "feature_sets.files"
   ]
  },
  {
   "cell_type": "code",
   "execution_count": 22,
   "metadata": {},
   "outputs": [
    {
     "data": {
      "text/plain": [
       "14"
      ]
     },
     "execution_count": 22,
     "metadata": {},
     "output_type": "execute_result"
    }
   ],
   "source": [
    "len(feature_sets['x_train'])"
   ]
  },
  {
   "cell_type": "code",
   "execution_count": 23,
   "metadata": {},
   "outputs": [
    {
     "name": "stdout",
     "output_type": "stream",
     "text": [
      "[2. 0. 2. 2. 1. 0. 2. 2. 0. 0. 0. 1. 0. 1.]\n"
     ]
    }
   ],
   "source": [
    "print(feature_sets['y_train'])"
   ]
  },
  {
   "cell_type": "code",
   "execution_count": null,
   "metadata": {},
   "outputs": [],
   "source": []
  }
 ],
 "metadata": {
  "kernelspec": {
   "display_name": "Python 3",
   "language": "python",
   "name": "python3"
  },
  "language_info": {
   "codemirror_mode": {
    "name": "ipython",
    "version": 3
   },
   "file_extension": ".py",
   "mimetype": "text/x-python",
   "name": "python",
   "nbconvert_exporter": "python",
   "pygments_lexer": "ipython3",
   "version": "3.7.6"
  }
 },
 "nbformat": 4,
 "nbformat_minor": 4
}
