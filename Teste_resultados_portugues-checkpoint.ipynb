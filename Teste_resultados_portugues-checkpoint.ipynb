{
 "cells": [
  {
   "cell_type": "code",
   "execution_count": 1,
   "metadata": {
    "collapsed": true
   },
   "outputs": [
    {
     "name": "stdout",
     "output_type": "stream",
     "text": [
      "Requirement already satisfied: tensorflow in c:\\users\\jmnun\\anaconda3\\lib\\site-packages (2.2.0)\n",
      "Requirement already satisfied: six>=1.12.0 in c:\\users\\jmnun\\anaconda3\\lib\\site-packages (from tensorflow) (1.14.0)\n",
      "Requirement already satisfied: tensorboard<2.3.0,>=2.2.0 in c:\\users\\jmnun\\anaconda3\\lib\\site-packages (from tensorflow) (2.2.2)\n",
      "Requirement already satisfied: tensorflow-estimator<2.3.0,>=2.2.0 in c:\\users\\jmnun\\anaconda3\\lib\\site-packages (from tensorflow) (2.2.0)\n",
      "Requirement already satisfied: opt-einsum>=2.3.2 in c:\\users\\jmnun\\anaconda3\\lib\\site-packages (from tensorflow) (3.2.1)\n",
      "Requirement already satisfied: gast==0.3.3 in c:\\users\\jmnun\\anaconda3\\lib\\site-packages (from tensorflow) (0.3.3)\n",
      "Requirement already satisfied: numpy<2.0,>=1.16.0 in c:\\users\\jmnun\\anaconda3\\lib\\site-packages (from tensorflow) (1.18.1)\n",
      "Requirement already satisfied: astunparse==1.6.3 in c:\\users\\jmnun\\anaconda3\\lib\\site-packages (from tensorflow) (1.6.3)\n",
      "Requirement already satisfied: protobuf>=3.8.0 in c:\\users\\jmnun\\anaconda3\\lib\\site-packages (from tensorflow) (3.12.2)\n",
      "Requirement already satisfied: google-pasta>=0.1.8 in c:\\users\\jmnun\\anaconda3\\lib\\site-packages (from tensorflow) (0.2.0)\n",
      "Requirement already satisfied: keras-preprocessing>=1.1.0 in c:\\users\\jmnun\\anaconda3\\lib\\site-packages (from tensorflow) (1.1.2)\n",
      "Requirement already satisfied: wheel>=0.26; python_version >= \"3\" in c:\\users\\jmnun\\anaconda3\\lib\\site-packages (from tensorflow) (0.34.2)\n",
      "Requirement already satisfied: scipy==1.4.1; python_version >= \"3\" in c:\\users\\jmnun\\anaconda3\\lib\\site-packages (from tensorflow) (1.4.1)\n",
      "Requirement already satisfied: absl-py>=0.7.0 in c:\\users\\jmnun\\anaconda3\\lib\\site-packages (from tensorflow) (0.9.0)\n",
      "Requirement already satisfied: wrapt>=1.11.1 in c:\\users\\jmnun\\anaconda3\\lib\\site-packages (from tensorflow) (1.11.2)\n",
      "Requirement already satisfied: termcolor>=1.1.0 in c:\\users\\jmnun\\anaconda3\\lib\\site-packages (from tensorflow) (1.1.0)\n",
      "Requirement already satisfied: h5py<2.11.0,>=2.10.0 in c:\\users\\jmnun\\anaconda3\\lib\\site-packages (from tensorflow) (2.10.0)\n",
      "Requirement already satisfied: grpcio>=1.8.6 in c:\\users\\jmnun\\anaconda3\\lib\\site-packages (from tensorflow) (1.29.0)\n",
      "Requirement already satisfied: setuptools>=41.0.0 in c:\\users\\jmnun\\anaconda3\\lib\\site-packages (from tensorboard<2.3.0,>=2.2.0->tensorflow) (45.2.0.post20200210)\n",
      "Requirement already satisfied: markdown>=2.6.8 in c:\\users\\jmnun\\anaconda3\\lib\\site-packages (from tensorboard<2.3.0,>=2.2.0->tensorflow) (3.2.2)\n",
      "Requirement already satisfied: requests<3,>=2.21.0 in c:\\users\\jmnun\\anaconda3\\lib\\site-packages (from tensorboard<2.3.0,>=2.2.0->tensorflow) (2.22.0)\n",
      "Requirement already satisfied: google-auth-oauthlib<0.5,>=0.4.1 in c:\\users\\jmnun\\anaconda3\\lib\\site-packages (from tensorboard<2.3.0,>=2.2.0->tensorflow) (0.4.1)\n",
      "Requirement already satisfied: tensorboard-plugin-wit>=1.6.0 in c:\\users\\jmnun\\anaconda3\\lib\\site-packages (from tensorboard<2.3.0,>=2.2.0->tensorflow) (1.6.0.post3)\n",
      "Requirement already satisfied: google-auth<2,>=1.6.3 in c:\\users\\jmnun\\anaconda3\\lib\\site-packages (from tensorboard<2.3.0,>=2.2.0->tensorflow) (1.17.2)\n",
      "Requirement already satisfied: werkzeug>=0.11.15 in c:\\users\\jmnun\\anaconda3\\lib\\site-packages (from tensorboard<2.3.0,>=2.2.0->tensorflow) (1.0.0)\n",
      "Requirement already satisfied: importlib-metadata; python_version < \"3.8\" in c:\\users\\jmnun\\anaconda3\\lib\\site-packages (from markdown>=2.6.8->tensorboard<2.3.0,>=2.2.0->tensorflow) (1.5.0)\n",
      "Requirement already satisfied: urllib3!=1.25.0,!=1.25.1,<1.26,>=1.21.1 in c:\\users\\jmnun\\anaconda3\\lib\\site-packages (from requests<3,>=2.21.0->tensorboard<2.3.0,>=2.2.0->tensorflow) (1.25.8)\n",
      "Requirement already satisfied: chardet<3.1.0,>=3.0.2 in c:\\users\\jmnun\\anaconda3\\lib\\site-packages (from requests<3,>=2.21.0->tensorboard<2.3.0,>=2.2.0->tensorflow) (3.0.4)\n",
      "Requirement already satisfied: idna<2.9,>=2.5 in c:\\users\\jmnun\\anaconda3\\lib\\site-packages (from requests<3,>=2.21.0->tensorboard<2.3.0,>=2.2.0->tensorflow) (2.8)\n",
      "Requirement already satisfied: certifi>=2017.4.17 in c:\\users\\jmnun\\anaconda3\\lib\\site-packages (from requests<3,>=2.21.0->tensorboard<2.3.0,>=2.2.0->tensorflow) (2019.11.28)\n",
      "Requirement already satisfied: requests-oauthlib>=0.7.0 in c:\\users\\jmnun\\anaconda3\\lib\\site-packages (from google-auth-oauthlib<0.5,>=0.4.1->tensorboard<2.3.0,>=2.2.0->tensorflow) (1.3.0)\n",
      "Requirement already satisfied: pyasn1-modules>=0.2.1 in c:\\users\\jmnun\\anaconda3\\lib\\site-packages (from google-auth<2,>=1.6.3->tensorboard<2.3.0,>=2.2.0->tensorflow) (0.2.8)\n",
      "Requirement already satisfied: cachetools<5.0,>=2.0.0 in c:\\users\\jmnun\\anaconda3\\lib\\site-packages (from google-auth<2,>=1.6.3->tensorboard<2.3.0,>=2.2.0->tensorflow) (4.1.0)\n",
      "Requirement already satisfied: rsa<5,>=3.1.4; python_version >= \"3\" in c:\\users\\jmnun\\anaconda3\\lib\\site-packages (from google-auth<2,>=1.6.3->tensorboard<2.3.0,>=2.2.0->tensorflow) (4.6)\n",
      "Requirement already satisfied: zipp>=0.5 in c:\\users\\jmnun\\anaconda3\\lib\\site-packages (from importlib-metadata; python_version < \"3.8\"->markdown>=2.6.8->tensorboard<2.3.0,>=2.2.0->tensorflow) (2.2.0)\n",
      "Requirement already satisfied: oauthlib>=3.0.0 in c:\\users\\jmnun\\anaconda3\\lib\\site-packages (from requests-oauthlib>=0.7.0->google-auth-oauthlib<0.5,>=0.4.1->tensorboard<2.3.0,>=2.2.0->tensorflow) (3.1.0)\n",
      "Requirement already satisfied: pyasn1<0.5.0,>=0.4.6 in c:\\users\\jmnun\\anaconda3\\lib\\site-packages (from pyasn1-modules>=0.2.1->google-auth<2,>=1.6.3->tensorboard<2.3.0,>=2.2.0->tensorflow) (0.4.8)\n"
     ]
    }
   ],
   "source": [
    "from os import listdir\n",
    "from os.path import isdir, join\n",
    "!pip install tensorflow\n",
    "from tensorflow.keras import layers, models\n",
    "import numpy as np"
   ]
  },
  {
   "cell_type": "code",
   "execution_count": 2,
   "metadata": {},
   "outputs": [],
   "source": [
    "# Settings\n",
    "model_sim_path = 'C:\\\\Users\\\\jmnun'\n",
    "model_sim_filename = 'wake_word_sim_model_final.h5'\n",
    "model_sim = join(model_sim_path, model_sim_filename)\n",
    "\n",
    "model_nao_path = 'C:\\\\Users\\\\jmnun'\n",
    "model_nao_filename = 'wake_word_nao_model_final.h5'\n",
    "model_nao = join(model_nao_path, model_nao_filename)"
   ]
  },
  {
   "cell_type": "code",
   "execution_count": 3,
   "metadata": {},
   "outputs": [
    {
     "name": "stdout",
     "output_type": "stream",
     "text": [
      "['x_train', 'y_train', 'x_val', 'y_val', 'x_test', 'y_test']\n",
      "(33, 16, 16)\n",
      "(10, 16, 16)\n",
      "(10, 16, 16)\n",
      "(10, 16, 16, 1)\n"
     ]
    }
   ],
   "source": [
    "feature_sets_path = 'C:\\\\Users\\\\jmnun'\n",
    "feature_sets_filename = 'all_targets_mfcc_sets_portugues.npz'\n",
    "feature_sets = np.load(join(feature_sets_path, feature_sets_filename))\n",
    "print(feature_sets.files)\n",
    "\n",
    "# Assign feature sets\n",
    "x_train = feature_sets['x_train']\n",
    "y_train = feature_sets['y_train']\n",
    "x_val = feature_sets['x_val']\n",
    "y_val = feature_sets['y_val']\n",
    "x_test = feature_sets['x_test']\n",
    "y_test = feature_sets['y_test']\n",
    "\n",
    "# Look at tensor dimensions\n",
    "print(x_train.shape)\n",
    "print(x_val.shape)\n",
    "print(x_test.shape)\n",
    "\n",
    "# Peek at labels\n",
    "#print(y_test)\n",
    "\n",
    "# CNN for TF expects (batch, height, width, channels)\n",
    "# So we reshape the input tensors with a \"color\" channel of 1\n",
    "x_test = x_test.reshape(x_test.shape[0], \n",
    "                        x_test.shape[1], \n",
    "                        x_test.shape[2], \n",
    "                        1)\n",
    "print(x_test.shape)"
   ]
  },
  {
   "cell_type": "code",
   "execution_count": 7,
   "metadata": {},
   "outputs": [
    {
     "name": "stdout",
     "output_type": "stream",
     "text": [
      "[[0.28851464]]\n",
      "[[0.7057253]]\n",
      "Acho que é nao com uma probabilidade de  [[0.7057253]]\n",
      "Palavra real: nao\n",
      "\n",
      "[[0.8929828]]\n",
      "[[0.04487002]]\n",
      "Acho que é sim com uma probabilidade de  [[0.8929828]]\n",
      "Palavra real: sim\n",
      "\n",
      "[[0.39693078]]\n",
      "[[0.16752319]]\n",
      "Não reconheço esta palavra\n",
      "Palavra real: desconhecida\n",
      "\n",
      "[[0.8507088]]\n",
      "[[0.05296886]]\n",
      "Acho que é sim com uma probabilidade de  [[0.8507088]]\n",
      "Palavra real: sim\n",
      "\n",
      "[[0.11500172]]\n",
      "[[0.8760719]]\n",
      "Acho que é nao com uma probabilidade de  [[0.8760719]]\n",
      "Palavra real: nao\n",
      "\n",
      "[[0.42816567]]\n",
      "[[0.0889552]]\n",
      "Não reconheço esta palavra\n",
      "Palavra real: sim\n",
      "\n",
      "[[0.54181856]]\n",
      "[[0.05300426]]\n",
      "Acho que é sim com uma probabilidade de  [[0.54181856]]\n",
      "Palavra real: sim\n",
      "\n",
      "[[0.82751656]]\n",
      "[[0.04896143]]\n",
      "Acho que é sim com uma probabilidade de  [[0.82751656]]\n",
      "Palavra real: sim\n",
      "\n",
      "[[0.29930243]]\n",
      "[[0.45275292]]\n",
      "Não reconheço esta palavra\n",
      "Palavra real: desconhecida\n",
      "\n"
     ]
    }
   ],
   "source": [
    "# TEST: Load model and run it against test set\n",
    "model_sim = models.load_model(model_sim_filename)\n",
    "model_nao = models.load_model(model_nao_filename)\n",
    "for i in range(0, 9):\n",
    "    result_sim = model_sim.predict(np.expand_dims(x_test[i], 0))\n",
    "    result_nao = model_nao.predict(np.expand_dims(x_test[i], 0))\n",
    "    print(result_sim)\n",
    "    print(result_nao)\n",
    "\n",
    "    if (result_sim > 0.5):\n",
    "        print(\"Acho que é sim com uma probabilidade de \", result_sim)\n",
    "    elif (result_nao > 0.5):\n",
    "        print(\"Acho que é nao com uma probabilidade de \", result_nao)\n",
    "    else:\n",
    "        print(\"Não reconheço esta palavra\")\n",
    "    if (y_test[i] == 0):\n",
    "        print(\"Palavra real: nao\\n\")\n",
    "    elif (y_test[i] == 2):\n",
    "        print(\"Palavra real: sim\\n\")\n",
    "    else:\n",
    "        print(\"Palavra real: desconhecida\\n\")"
   ]
  },
  {
   "cell_type": "code",
   "execution_count": null,
   "metadata": {},
   "outputs": [],
   "source": []
  }
 ],
 "metadata": {
  "kernelspec": {
   "display_name": "Python 3",
   "language": "python",
   "name": "python3"
  },
  "language_info": {
   "codemirror_mode": {
    "name": "ipython",
    "version": 3
   },
   "file_extension": ".py",
   "mimetype": "text/x-python",
   "name": "python",
   "nbconvert_exporter": "python",
   "pygments_lexer": "ipython3",
   "version": "3.7.6"
  }
 },
 "nbformat": 4,
 "nbformat_minor": 4
}
