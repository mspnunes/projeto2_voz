{
 "cells": [
  {
   "cell_type": "code",
   "execution_count": 1,
   "metadata": {},
   "outputs": [
    {
     "name": "stdout",
     "output_type": "stream",
     "text": [
      "Requirement already satisfied: librosa in c:\\users\\jmnun\\anaconda3\\lib\\site-packages (0.7.2)\n",
      "Requirement already satisfied: resampy>=0.2.2 in c:\\users\\jmnun\\anaconda3\\lib\\site-packages (from librosa) (0.2.2)\n",
      "Requirement already satisfied: numpy>=1.15.0 in c:\\users\\jmnun\\anaconda3\\lib\\site-packages (from librosa) (1.18.1)\n",
      "Requirement already satisfied: six>=1.3 in c:\\users\\jmnun\\anaconda3\\lib\\site-packages (from librosa) (1.14.0)\n",
      "Requirement already satisfied: decorator>=3.0.0 in c:\\users\\jmnun\\anaconda3\\lib\\site-packages (from librosa) (4.4.1)\n",
      "Requirement already satisfied: joblib>=0.12 in c:\\users\\jmnun\\anaconda3\\lib\\site-packages (from librosa) (0.14.1)\n",
      "Requirement already satisfied: numba>=0.43.0 in c:\\users\\jmnun\\anaconda3\\lib\\site-packages (from librosa) (0.48.0)\n",
      "Requirement already satisfied: scikit-learn!=0.19.0,>=0.14.0 in c:\\users\\jmnun\\anaconda3\\lib\\site-packages (from librosa) (0.22.1)\n",
      "Requirement already satisfied: scipy>=1.0.0 in c:\\users\\jmnun\\anaconda3\\lib\\site-packages (from librosa) (1.4.1)\n",
      "Requirement already satisfied: soundfile>=0.9.0 in c:\\users\\jmnun\\anaconda3\\lib\\site-packages (from librosa) (0.10.3.post1)\n",
      "Requirement already satisfied: audioread>=2.0.0 in c:\\users\\jmnun\\anaconda3\\lib\\site-packages (from librosa) (2.1.8)\n",
      "Requirement already satisfied: llvmlite<0.32.0,>=0.31.0dev0 in c:\\users\\jmnun\\anaconda3\\lib\\site-packages (from numba>=0.43.0->librosa) (0.31.0)\n",
      "Requirement already satisfied: setuptools in c:\\users\\jmnun\\anaconda3\\lib\\site-packages (from numba>=0.43.0->librosa) (45.2.0.post20200210)\n",
      "Requirement already satisfied: cffi>=1.0 in c:\\users\\jmnun\\anaconda3\\lib\\site-packages (from soundfile>=0.9.0->librosa) (1.14.0)\n",
      "Requirement already satisfied: pycparser in c:\\users\\jmnun\\anaconda3\\lib\\site-packages (from cffi>=1.0->soundfile>=0.9.0->librosa) (2.19)\n",
      "Requirement already satisfied: matplotlib in c:\\users\\jmnun\\anaconda3\\lib\\site-packages (3.1.3)\n",
      "Requirement already satisfied: kiwisolver>=1.0.1 in c:\\users\\jmnun\\anaconda3\\lib\\site-packages (from matplotlib) (1.1.0)\n",
      "Requirement already satisfied: python-dateutil>=2.1 in c:\\users\\jmnun\\anaconda3\\lib\\site-packages (from matplotlib) (2.8.1)\n",
      "Requirement already satisfied: numpy>=1.11 in c:\\users\\jmnun\\anaconda3\\lib\\site-packages (from matplotlib) (1.18.1)\n",
      "Requirement already satisfied: cycler>=0.10 in c:\\users\\jmnun\\anaconda3\\lib\\site-packages (from matplotlib) (0.10.0)\n",
      "Requirement already satisfied: pyparsing!=2.0.4,!=2.1.2,!=2.1.6,>=2.0.1 in c:\\users\\jmnun\\anaconda3\\lib\\site-packages (from matplotlib) (2.4.6)\n",
      "Requirement already satisfied: setuptools in c:\\users\\jmnun\\anaconda3\\lib\\site-packages (from kiwisolver>=1.0.1->matplotlib) (45.2.0.post20200210)\n",
      "Requirement already satisfied: six>=1.5 in c:\\users\\jmnun\\anaconda3\\lib\\site-packages (from python-dateutil>=2.1->matplotlib) (1.14.0)\n",
      "Requirement already satisfied: python_speech_features in c:\\users\\jmnun\\anaconda3\\lib\\site-packages (0.6)\n"
     ]
    }
   ],
   "source": [
    "from os import listdir\n",
    "from os.path import isdir, join\n",
    "!pip install librosa\n",
    "import librosa\n",
    "import random\n",
    "import numpy as np\n",
    "!pip install matplotlib\n",
    "import matplotlib.pyplot as plt\n",
    "!pip install python_speech_features\n",
    "import python_speech_features"
   ]
  },
  {
   "cell_type": "code",
   "execution_count": 2,
   "metadata": {},
   "outputs": [
    {
     "name": "stdout",
     "output_type": "stream",
     "text": [
      "nao\n",
      "outros\n",
      "sim\n"
     ]
    }
   ],
   "source": [
    "# Dataset path and view possible targets\n",
    "dataset_path = 'C:\\\\Users\\\\jmnun\\\\OneDrive\\\\Ambiente de Trabalho\\\\MiEEC\\\\3ano\\\\projeto2\\\\voz_portugues'\n",
    "for name in listdir(dataset_path):\n",
    "    if isdir(join(dataset_path, name)):\n",
    "        print(name)"
   ]
  },
  {
   "cell_type": "code",
   "execution_count": 3,
   "metadata": {},
   "outputs": [
    {
     "name": "stdout",
     "output_type": "stream",
     "text": [
      "['nao', 'outros', 'sim']\n"
     ]
    }
   ],
   "source": [
    "# Create an all targets list\n",
    "all_targets = [name for name in listdir(dataset_path) if isdir(join(dataset_path, name))]\n",
    "print(all_targets)"
   ]
  },
  {
   "cell_type": "code",
   "execution_count": 4,
   "metadata": {},
   "outputs": [
    {
     "name": "stdout",
     "output_type": "stream",
     "text": [
      "20\n",
      "18\n",
      "20\n",
      "Total samples: 58\n"
     ]
    }
   ],
   "source": [
    "# See how many files are in each\n",
    "num_samples = 0\n",
    "for target in all_targets:\n",
    "    print(len(listdir(join(dataset_path, target))))\n",
    "    num_samples += len(listdir(join(dataset_path, target)))\n",
    "print('Total samples:', num_samples)"
   ]
  },
  {
   "cell_type": "code",
   "execution_count": 5,
   "metadata": {},
   "outputs": [],
   "source": [
    "# Settings\n",
    "target_list = all_targets\n",
    "feature_sets_file = 'all_targets_mfcc_sets_portugues.npz'\n",
    "perc_keep_samples = 1 # 1.0 is keep all samples - ESTAMOS A USAR SÓ 10% DOS DADOS\n",
    "val_ratio = 0.2\n",
    "test_ratio = 0.2\n",
    "sample_rate = 8000\n",
    "num_mfcc = 16\n",
    "len_mfcc = 16"
   ]
  },
  {
   "cell_type": "code",
   "execution_count": 6,
   "metadata": {},
   "outputs": [
    {
     "name": "stdout",
     "output_type": "stream",
     "text": [
      "C:\\Users\\jmnun\\OneDrive\\Ambiente de Trabalho\\MiEEC\\3ano\\projeto2\\voz_portugues\\nao\n",
      "C:\\Users\\jmnun\\OneDrive\\Ambiente de Trabalho\\MiEEC\\3ano\\projeto2\\voz_portugues\\outros\n",
      "C:\\Users\\jmnun\\OneDrive\\Ambiente de Trabalho\\MiEEC\\3ano\\projeto2\\voz_portugues\\sim\n"
     ]
    }
   ],
   "source": [
    "# Create list of filenames along with ground truth vector (y)\n",
    "filenames = []\n",
    "y = []\n",
    "for index, target in enumerate(target_list):\n",
    "    print(join(dataset_path, target))\n",
    "    filenames.append(listdir(join(dataset_path, target)))\n",
    "    y.append(np.ones(len(filenames[index])) * index)"
   ]
  },
  {
   "cell_type": "code",
   "execution_count": 7,
   "metadata": {},
   "outputs": [
    {
     "name": "stdout",
     "output_type": "stream",
     "text": [
      "[array([0., 0., 0., 0., 0., 0., 0., 0., 0., 0., 0., 0., 0., 0., 0., 0., 0.,\n",
      "       0., 0., 0.]), array([1., 1., 1., 1., 1., 1., 1., 1., 1., 1., 1., 1., 1., 1., 1., 1., 1.,\n",
      "       1.]), array([2., 2., 2., 2., 2., 2., 2., 2., 2., 2., 2., 2., 2., 2., 2., 2., 2.,\n",
      "       2., 2., 2.])]\n",
      "20\n",
      "18\n",
      "20\n"
     ]
    }
   ],
   "source": [
    "# Check ground truth Y vector\n",
    "print(y)\n",
    "for item in y:\n",
    "    print(len(item))"
   ]
  },
  {
   "cell_type": "code",
   "execution_count": 8,
   "metadata": {},
   "outputs": [],
   "source": [
    "# Flatten filename and y vectors\n",
    "filenames = [item for sublist in filenames for item in sublist]\n",
    "y = [item for sublist in y for item in sublist]"
   ]
  },
  {
   "cell_type": "code",
   "execution_count": 9,
   "metadata": {},
   "outputs": [],
   "source": [
    "# Associate filenames with true output and shuffle\n",
    "filenames_y = list(zip(filenames, y))\n",
    "random.shuffle(filenames_y)\n",
    "filenames, y = zip(*filenames_y)"
   ]
  },
  {
   "cell_type": "code",
   "execution_count": 10,
   "metadata": {},
   "outputs": [
    {
     "name": "stdout",
     "output_type": "stream",
     "text": [
      "58\n",
      "58\n"
     ]
    }
   ],
   "source": [
    "# Only keep the specified number of samples (shorter extraction/training)\n",
    "print(len(filenames))\n",
    "filenames = filenames[:int(len(filenames) * perc_keep_samples)]\n",
    "print(len(filenames))"
   ]
  },
  {
   "cell_type": "code",
   "execution_count": 11,
   "metadata": {},
   "outputs": [],
   "source": [
    "# Calculate validation and test set sizes\n",
    "val_set_size = int(len(filenames) * val_ratio)\n",
    "test_set_size = int(len(filenames) * test_ratio)"
   ]
  },
  {
   "cell_type": "code",
   "execution_count": 12,
   "metadata": {},
   "outputs": [],
   "source": [
    "# Break dataset apart into train, validation, and test sets\n",
    "filenames_val = filenames[:val_set_size]\n",
    "filenames_test = filenames[val_set_size:(val_set_size + test_set_size)]\n",
    "filenames_train = filenames[(val_set_size + test_set_size):]"
   ]
  },
  {
   "cell_type": "code",
   "execution_count": 13,
   "metadata": {},
   "outputs": [],
   "source": [
    "# Break y apart into train, validation, and test sets\n",
    "y_orig_val = y[:val_set_size]\n",
    "y_orig_test = y[val_set_size:(val_set_size + test_set_size)]\n",
    "y_orig_train = y[(val_set_size + test_set_size):]"
   ]
  },
  {
   "cell_type": "code",
   "execution_count": 14,
   "metadata": {},
   "outputs": [],
   "source": [
    "# Function: Create MFCC from given path\n",
    "def calc_mfcc(path):\n",
    "    \n",
    "    # Load wavefile\n",
    "    signal, fs = librosa.load(path, sr=sample_rate)\n",
    "    \n",
    "    # Create MFCCs from sound clip\n",
    "    mfccs = python_speech_features.base.mfcc(signal, \n",
    "                                            samplerate=fs,\n",
    "                                            winlen=0.256,\n",
    "                                            winstep=0.050,\n",
    "                                            numcep=num_mfcc,\n",
    "                                            nfilt=26,\n",
    "                                            nfft=2048,\n",
    "                                            preemph=0.0,\n",
    "                                            ceplifter=0,\n",
    "                                            appendEnergy=False,\n",
    "                                            winfunc=np.hanning)\n",
    "    return mfccs.transpose()"
   ]
  },
  {
   "cell_type": "code",
   "execution_count": 15,
   "metadata": {},
   "outputs": [
    {
     "name": "stdout",
     "output_type": "stream",
     "text": [
      "Dropped: 18 (16, 28)\n",
      "Dropped: 22 (16, 14)\n",
      "Dropped: 29 (16, 14)\n"
     ]
    }
   ],
   "source": [
    "# TEST: Construct test set by computing MFCC of each WAV file\n",
    "prob_cnt = 0\n",
    "x_test = []\n",
    "y_test = []\n",
    "for index, filename in enumerate(filenames_train):\n",
    "    \n",
    "    # Stop after 500\n",
    "    if index >= 500:\n",
    "        break\n",
    "    \n",
    "    # Create path from given filename and target item\n",
    "    path = join(dataset_path, target_list[int(y_orig_train[index])], \n",
    "                filename)\n",
    "    \n",
    "    # Create MFCCs\n",
    "    mfccs = calc_mfcc(path)\n",
    "    \n",
    "    if mfccs.shape[1] == len_mfcc:\n",
    "        x_test.append(mfccs)\n",
    "        y_test.append(y_orig_train[index])\n",
    "    else:\n",
    "        print('Dropped:', index, mfccs.shape)\n",
    "        prob_cnt += 1"
   ]
  },
  {
   "cell_type": "code",
   "execution_count": 16,
   "metadata": {},
   "outputs": [
    {
     "name": "stdout",
     "output_type": "stream",
     "text": [
      "% of problematic samples: 0.006\n"
     ]
    }
   ],
   "source": [
    "print('% of problematic samples:', prob_cnt / 500)"
   ]
  },
  {
   "cell_type": "code",
   "execution_count": 17,
   "metadata": {},
   "outputs": [
    {
     "name": "stdout",
     "output_type": "stream",
     "text": [
      "Requirement already satisfied: playsound in c:\\users\\jmnun\\anaconda3\\lib\\site-packages (1.2.2)\n",
      "MFCCs: [[-6.41091050e+01 -6.70608584e+01 -6.41509328e+01 -5.03671770e+01\n",
      "  -4.01352672e+01 -3.04395194e+01 -2.40507004e+01 -2.13584531e+01\n",
      "  -2.19988157e+01 -2.61264462e+01 -3.31056033e+01 -4.05585700e+01\n",
      "  -4.75004311e+01 -5.16678316e+01 -5.41696491e+01 -5.62789337e+01]\n",
      " [ 4.93317017e+00  5.22068046e+00  9.44009753e+00  1.33401862e+01\n",
      "   1.22732385e+01  9.52816982e+00  6.78419261e+00  5.15137283e+00\n",
      "   5.40231334e+00  7.57214035e+00  1.10618226e+01  1.26981127e+01\n",
      "   1.16683235e+01  9.65313894e+00  8.39756548e+00  8.00300312e+00]\n",
      " [ 4.01793814e-02  3.35381481e-01  3.25066854e+00  4.05769557e+00\n",
      "   3.37537159e+00  8.27362994e-01 -1.44305013e+00 -3.17658262e+00\n",
      "  -4.24225065e+00 -4.59206659e+00 -3.70850101e+00 -1.27402842e+00\n",
      "  -1.85103169e-01 -4.11570624e-01 -3.53146723e-01 -3.01635184e-01]\n",
      " [-8.57864229e-01 -5.01184747e-01 -2.72826936e-01 -8.60069622e-01\n",
      "  -6.15113535e-01 -2.19162946e+00 -3.64354683e+00 -3.95707514e+00\n",
      "  -4.02425904e+00 -4.51654632e+00 -5.16710958e+00 -4.36851769e+00\n",
      "  -2.20976922e+00 -4.18797092e-01  5.51484066e-01  1.41771969e-01]\n",
      " [-1.18510408e+00 -5.20050074e-01 -2.38293629e+00 -6.72432672e+00\n",
      "  -6.92094902e+00 -4.73655878e+00 -2.56198866e+00 -4.53704807e-01\n",
      "   1.78254832e+00  3.38356958e+00  2.78003527e+00  1.44344743e-01\n",
      "  -7.64722150e-01 -2.67278743e-01  1.65793677e-01 -2.55971909e-01]\n",
      " [-1.51720994e+00 -8.80461862e-01 -3.54174061e+00 -4.25362950e+00\n",
      "  -4.36914270e+00 -4.19783476e+00 -3.96574947e+00 -3.99285779e+00\n",
      "  -3.69533628e+00 -3.11661933e+00 -2.00713643e+00 -2.58015469e+00\n",
      "  -4.06229807e+00 -3.52949649e+00 -3.10753502e+00 -3.05570106e+00]\n",
      " [ 2.87017932e-01 -2.11764519e-01 -3.52577109e+00 -5.28061331e+00\n",
      "  -5.17342613e+00 -2.54290752e+00 -9.98388639e-01 -7.61303260e-01\n",
      "  -1.20594151e+00 -1.89022020e+00 -1.86262764e+00 -1.55216908e+00\n",
      "  -1.92994451e+00 -5.56530666e-01  1.43803931e-01 -2.53478976e-01]\n",
      " [-1.55047143e+00 -5.61172734e-01 -2.78006291e+00 -1.62106526e+00\n",
      "  -1.35784857e+00 -3.09489713e+00 -4.28763106e+00 -4.51285906e+00\n",
      "  -4.77715736e+00 -5.17220682e+00 -6.38172306e+00 -6.38547525e+00\n",
      "  -5.54648197e+00 -4.33856297e+00 -2.88870210e+00 -2.04740677e+00]\n",
      " [-1.08886445e+00 -8.45443359e-01 -2.60319784e+00 -3.10019683e+00\n",
      "  -3.58433333e+00 -4.82972870e+00 -5.42088636e+00 -6.01733086e+00\n",
      "  -6.49345363e+00 -6.13351340e+00 -4.80124525e+00 -4.73934830e+00\n",
      "  -3.80688296e+00 -2.52280040e+00 -1.27378627e+00 -5.70153480e-01]\n",
      " [ 7.60365710e-02 -6.75906358e-03 -9.19499025e-01 -8.79468785e-01\n",
      "  -1.43043172e+00 -1.31548377e+00 -1.15009669e+00 -1.80710081e+00\n",
      "  -2.46667554e+00 -2.60467263e+00 -2.90041686e+00 -3.38349849e+00\n",
      "  -3.49946676e+00 -2.04017763e+00 -1.77199875e+00 -1.19465397e+00]\n",
      " [-1.94746895e-02 -5.69300876e-02 -6.30077901e-02 -1.29397111e+00\n",
      "  -1.81889666e+00 -2.59172476e+00 -2.82595909e+00 -2.54540380e+00\n",
      "  -2.37736288e+00 -1.95877835e+00 -2.35444944e+00 -1.71329654e+00\n",
      "  -1.83701619e+00 -7.11815682e-01 -1.01615873e+00 -9.37597862e-01]\n",
      " [ 6.02382060e-02  4.35469563e-01  9.26933434e-01 -1.01778312e+00\n",
      "  -1.77896002e+00 -1.26411116e+00 -3.22095276e-01  7.09960842e-03\n",
      "  -2.62567840e-01 -1.96261572e-01  9.97762433e-02 -1.64552460e-01\n",
      "  -1.18304167e-01  4.44858823e-01  2.40267550e-02 -1.65377703e-01]\n",
      " [ 4.72722705e-01 -1.62621593e-01  1.00655202e+00  2.19485739e+00\n",
      "   2.14403540e+00  2.22084054e+00  2.47958030e+00  2.24733771e+00\n",
      "   1.35805227e+00  4.33555503e-02 -5.28836744e-01  1.30819758e-01\n",
      "   1.35562723e+00  1.49641912e+00  1.31798676e+00  1.25204778e+00]\n",
      " [-1.38854194e-01 -8.78598600e-02  1.38417992e+00  1.04786940e+00\n",
      "   1.81355131e+00  1.60401433e+00  1.25491127e+00  1.01026039e+00\n",
      "   5.28615436e-01 -2.67431248e-02 -1.91325704e-01  4.14303493e-01\n",
      "   5.93716953e-01  7.02606684e-01  8.80573144e-02 -2.04617607e-01]\n",
      " [-6.97342102e-01 -4.05508741e-01  1.50090750e+00  2.22190292e+00\n",
      "   1.82411444e+00  1.81985526e+00  1.84512699e+00  1.88212854e+00\n",
      "   1.48050927e+00  6.04463531e-01  2.63525923e-01  6.46289574e-01\n",
      "   4.41270194e-01  7.83251783e-01  7.07514301e-01  3.48106133e-01]\n",
      " [-4.44134788e-01 -3.70567762e-01  8.13473926e-01  2.42640716e+00\n",
      "   2.09502351e+00  2.41076265e+00  2.03250971e+00  1.69505914e+00\n",
      "   1.54359629e+00  1.19212309e+00  1.67303450e+00  1.80977314e+00\n",
      "   1.46715739e+00  7.97180825e-01  9.12128580e-01  6.61896079e-01]]\n",
      "nao\n"
     ]
    },
    {
     "data": {
      "image/png": "[encoded data removed]",
      "text/plain": [
       "<Figure size 432x288 with 1 Axes>"
      ]
     },
     "metadata": {
      "needs_background": "light"
     },
     "output_type": "display_data"
    }
   ],
   "source": [
    "# TEST: Test shorter MFCC\n",
    "!pip install playsound\n",
    "from playsound import playsound\n",
    "\n",
    "idx = 8\n",
    "\n",
    "# Create path from given filename and target item\n",
    "path = join(dataset_path, target_list[int(y_orig_train[idx])], \n",
    "            filenames_train[idx])\n",
    "\n",
    "# Create MFCCs\n",
    "mfccs = calc_mfcc(path)\n",
    "print(\"MFCCs:\", mfccs)\n",
    "\n",
    "# Plot MFCC\n",
    "fig = plt.figure()\n",
    "plt.imshow(mfccs, cmap='inferno', origin='lower')\n",
    "\n",
    "# TEST: Play problem sounds\n",
    "print(target_list[int(y_orig_train[idx])])\n",
    "playsound(path)"
   ]
  },
  {
   "cell_type": "code",
   "execution_count": 18,
   "metadata": {},
   "outputs": [],
   "source": [
    "# Function: Create MFCCs, keeping only ones of desired length\n",
    "def extract_features(in_files, in_y):\n",
    "    prob_cnt = 0\n",
    "    out_x = []\n",
    "    out_y = []\n",
    "        \n",
    "    for index, filename in enumerate(in_files):\n",
    "    \n",
    "        # Create path from given filename and target item\n",
    "        path = join(dataset_path, target_list[int(in_y[index])], \n",
    "                    filename)\n",
    "        \n",
    "        # Check to make sure we're reading a .wav file\n",
    "        if not path.endswith('.wav'):\n",
    "            continue\n",
    "\n",
    "        # Create MFCCs\n",
    "        mfccs = calc_mfcc(path)\n",
    "\n",
    "        # Only keep MFCCs with given length\n",
    "        if mfccs.shape[1] == len_mfcc:\n",
    "            out_x.append(mfccs)\n",
    "            out_y.append(in_y[index])\n",
    "        else:\n",
    "            print('Dropped:', index, mfccs.shape)\n",
    "            prob_cnt += 1\n",
    "            \n",
    "    return out_x, out_y, prob_cnt"
   ]
  },
  {
   "cell_type": "code",
   "execution_count": 19,
   "metadata": {},
   "outputs": [
    {
     "name": "stdout",
     "output_type": "stream",
     "text": [
      "Dropped: 18 (16, 28)\n",
      "Dropped: 22 (16, 14)\n",
      "Dropped: 29 (16, 14)\n",
      "Removed percentage: 0.08333333333333333\n",
      "Dropped: 8 (16, 14)\n",
      "Removed percentage: 0.09090909090909091\n",
      "Dropped: 7 (16, 14)\n",
      "Removed percentage: 0.09090909090909091\n"
     ]
    }
   ],
   "source": [
    "# Create train, validation, and test sets\n",
    "x_train, y_train, prob = extract_features(filenames_train, \n",
    "                                          y_orig_train)\n",
    "print('Removed percentage:', prob / len(y_orig_train))\n",
    "x_val, y_val, prob = extract_features(filenames_val, y_orig_val)\n",
    "print('Removed percentage:', prob / len(y_orig_val))\n",
    "x_test, y_test, prob = extract_features(filenames_test, y_orig_test)\n",
    "print('Removed percentage:', prob / len(y_orig_test))"
   ]
  },
  {
   "cell_type": "code",
   "execution_count": 20,
   "metadata": {},
   "outputs": [],
   "source": [
    "# Save features and truth vector (y) sets to disk\n",
    "np.savez(feature_sets_file, \n",
    "         x_train=x_train, \n",
    "         y_train=y_train, \n",
    "         x_val=x_val, \n",
    "         y_val=y_val, \n",
    "         x_test=x_test, \n",
    "         y_test=y_test)"
   ]
  },
  {
   "cell_type": "code",
   "execution_count": 21,
   "metadata": {},
   "outputs": [
    {
     "data": {
      "text/plain": [
       "['x_train', 'y_train', 'x_val', 'y_val', 'x_test', 'y_test']"
      ]
     },
     "execution_count": 21,
     "metadata": {},
     "output_type": "execute_result"
    }
   ],
   "source": [
    "# TEST: Load features\n",
    "feature_sets = np.load(feature_sets_file)\n",
    "feature_sets.files"
   ]
  },
  {
   "cell_type": "code",
   "execution_count": 22,
   "metadata": {},
   "outputs": [
    {
     "data": {
      "text/plain": [
       "33"
      ]
     },
     "execution_count": 22,
     "metadata": {},
     "output_type": "execute_result"
    }
   ],
   "source": [
    "len(feature_sets['x_train'])"
   ]
  },
  {
   "cell_type": "code",
   "execution_count": 25,
   "metadata": {},
   "outputs": [
    {
     "name": "stdout",
     "output_type": "stream",
     "text": [
      "[1. 0. 2. 2. 1. 0. 2. 0. 0. 0. 2. 1. 1. 1. 0. 2. 0. 2. 1. 1. 2. 0. 1. 0.\n",
      " 0. 0. 0. 1. 2. 1. 2. 2. 2.]\n"
     ]
    }
   ],
   "source": [
    "print(feature_sets['y_train'])"
   ]
  },
  {
   "cell_type": "code",
   "execution_count": null,
   "metadata": {},
   "outputs": [],
   "source": []
  }
 ],
 "metadata": {
  "kernelspec": {
   "display_name": "Python 3",
   "language": "python",
   "name": "python3"
  },
  "language_info": {
   "codemirror_mode": {
    "name": "ipython",
    "version": 3
   },
   "file_extension": ".py",
   "mimetype": "text/x-python",
   "name": "python",
   "nbconvert_exporter": "python",
   "pygments_lexer": "ipython3",
   "version": "3.7.6"
  }
 },
 "nbformat": 4,
 "nbformat_minor": 4
}
